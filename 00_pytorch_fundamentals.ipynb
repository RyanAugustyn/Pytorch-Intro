{
  "nbformat": 4,
  "nbformat_minor": 0,
  "metadata": {
    "colab": {
      "provenance": [],
      "gpuType": "T4",
      "authorship_tag": "ABX9TyO6pQfCEapctKGjikG5rze+",
      "include_colab_link": true
    },
    "kernelspec": {
      "name": "python3",
      "display_name": "Python 3"
    },
    "language_info": {
      "name": "python"
    }
  },
  "cells": [
    {
      "cell_type": "markdown",
      "metadata": {
        "id": "view-in-github",
        "colab_type": "text"
      },
      "source": [
        "<a href=\"https://colab.research.google.com/github/RyanAugustyn/Pytorch-Intro/blob/main/00_pytorch_fundamentals.ipynb\" target=\"_parent\"><img src=\"https://colab.research.google.com/assets/colab-badge.svg\" alt=\"Open In Colab\"/></a>"
      ]
    },
    {
      "cell_type": "markdown",
      "source": [
        "# 00. PyTorch Fundamentals\n",
        "\n",
        "Resource notebook: https://www.learnpytorch.io/00_pytorch_fundamentals/\n",
        "\n",
        "Course github discussion: https://github.com/mrdbourke/pytorch-deep-learning/discussions\n",
        "\n"
      ],
      "metadata": {
        "id": "ni6MfR7gvell"
      }
    },
    {
      "cell_type": "markdown",
      "source": [
        "Changed the above to text cell by highlighting and hitting ctrl + mm\n",
        "\n"
      ],
      "metadata": {
        "id": "Ku5siWeQwkMJ"
      }
    },
    {
      "cell_type": "markdown",
      "source": [
        "Hit shift + enter to start a new code cell while typing, or if not in a cell hit ctrl + mb"
      ],
      "metadata": {
        "id": "pUnhS3O5w0JN"
      }
    },
    {
      "cell_type": "code",
      "source": [
        "import torch\n",
        "import pandas as pd\n",
        "import numpy as np\n",
        "import matplotlib.pyplot as plt\n",
        "print(torch.__version__)"
      ],
      "metadata": {
        "colab": {
          "base_uri": "https://localhost:8080/"
        },
        "id": "SwxBkkVqxCt5",
        "outputId": "2f3d121b-2581-415b-8be1-761b40ab1f90"
      },
      "execution_count": 2,
      "outputs": [
        {
          "output_type": "stream",
          "name": "stdout",
          "text": [
            "2.0.1+cu118\n"
          ]
        }
      ]
    },
    {
      "cell_type": "code",
      "source": [
        "# Introduction to Tensors-Creating tensors\n",
        "\n",
        "#torch.tensor documentation at https://pytorch.org/docs/stable/tensors.html\n",
        "#encodes into 'tensor' data type\n",
        "\n",
        "#scalar\n",
        "scalar = torch.tensor(7)\n",
        "scalar\n"
      ],
      "metadata": {
        "colab": {
          "base_uri": "https://localhost:8080/"
        },
        "id": "fzhjGRJRyiLU",
        "outputId": "e8cc51e0-9bae-47e3-eea7-5ccd793f977b"
      },
      "execution_count": 3,
      "outputs": [
        {
          "output_type": "execute_result",
          "data": {
            "text/plain": [
              "tensor(7)"
            ]
          },
          "metadata": {},
          "execution_count": 3
        }
      ]
    },
    {
      "cell_type": "code",
      "source": [
        "#has no dimensions\n",
        "scalar.ndim\n",
        "\n",
        "scalar2 = torch.tensor([[1,2], [3,4]])\n",
        "scalar2\n",
        "\n",
        "#tried running with different lengths, produced error when scalars not equal size\n",
        "scalar3 = torch.tensor([[1,2,2,2], [3,4,5,5], [6,7,8,9]])\n",
        "scalar3\n"
      ],
      "metadata": {
        "colab": {
          "base_uri": "https://localhost:8080/"
        },
        "id": "j-C8ED6M1-kS",
        "outputId": "575c00cc-983d-483c-915d-e280da0e0954"
      },
      "execution_count": 4,
      "outputs": [
        {
          "output_type": "execute_result",
          "data": {
            "text/plain": [
              "tensor([[1, 2, 2, 2],\n",
              "        [3, 4, 5, 5],\n",
              "        [6, 7, 8, 9]])"
            ]
          },
          "metadata": {},
          "execution_count": 4
        }
      ]
    },
    {
      "cell_type": "code",
      "source": [
        "scalar2.ndim"
      ],
      "metadata": {
        "colab": {
          "base_uri": "https://localhost:8080/"
        },
        "id": "v6E-T3c527Ei",
        "outputId": "698ee6c2-ed9e-4bf1-8717-f46712e90c1c"
      },
      "execution_count": 5,
      "outputs": [
        {
          "output_type": "execute_result",
          "data": {
            "text/plain": [
              "2"
            ]
          },
          "metadata": {},
          "execution_count": 5
        }
      ]
    },
    {
      "cell_type": "code",
      "source": [
        "scalar3.ndim"
      ],
      "metadata": {
        "colab": {
          "base_uri": "https://localhost:8080/"
        },
        "id": "1d6haf_G3gNA",
        "outputId": "73d7b278-6c15-4b45-86b1-3c9cb3fb1b3a"
      },
      "execution_count": 6,
      "outputs": [
        {
          "output_type": "execute_result",
          "data": {
            "text/plain": [
              "2"
            ]
          },
          "metadata": {},
          "execution_count": 6
        }
      ]
    },
    {
      "cell_type": "code",
      "source": [
        "#get tensor back as Python int\n",
        "scalar.item()"
      ],
      "metadata": {
        "colab": {
          "base_uri": "https://localhost:8080/"
        },
        "id": "nfmvA9X_2TZp",
        "outputId": "957a0178-9aa7-411a-9123-adbd3482efb5"
      },
      "execution_count": 7,
      "outputs": [
        {
          "output_type": "execute_result",
          "data": {
            "text/plain": [
              "7"
            ]
          },
          "metadata": {},
          "execution_count": 7
        }
      ]
    },
    {
      "cell_type": "code",
      "source": [
        "#Vector\n",
        "vector = torch.tensor([7, 7])\n",
        "vector"
      ],
      "metadata": {
        "colab": {
          "base_uri": "https://localhost:8080/"
        },
        "id": "7TSde_o82bT1",
        "outputId": "4c889043-302a-4b8f-f35a-e5d2a7720d44"
      },
      "execution_count": 8,
      "outputs": [
        {
          "output_type": "execute_result",
          "data": {
            "text/plain": [
              "tensor([7, 7])"
            ]
          },
          "metadata": {},
          "execution_count": 8
        }
      ]
    },
    {
      "cell_type": "code",
      "source": [
        "vector.ndim"
      ],
      "metadata": {
        "colab": {
          "base_uri": "https://localhost:8080/"
        },
        "id": "wEUKWBWE3sV7",
        "outputId": "0d90cd6c-656e-4b65-b812-79fe82c25449"
      },
      "execution_count": 9,
      "outputs": [
        {
          "output_type": "execute_result",
          "data": {
            "text/plain": [
              "1"
            ]
          },
          "metadata": {},
          "execution_count": 9
        }
      ]
    },
    {
      "cell_type": "code",
      "source": [
        "vector.shape"
      ],
      "metadata": {
        "colab": {
          "base_uri": "https://localhost:8080/"
        },
        "id": "geDjjwcO46Wi",
        "outputId": "845cfdcd-1028-482b-cb2e-841aa62dfa76"
      },
      "execution_count": 10,
      "outputs": [
        {
          "output_type": "execute_result",
          "data": {
            "text/plain": [
              "torch.Size([2])"
            ]
          },
          "metadata": {},
          "execution_count": 10
        }
      ]
    },
    {
      "cell_type": "code",
      "source": [
        "#dimension correspond to number of square brackets (number of pairs of closing square brackets)\n",
        "#but shape of above vector is 2"
      ],
      "metadata": {
        "id": "k2cx-XBB5Awt"
      },
      "execution_count": 11,
      "outputs": []
    },
    {
      "cell_type": "code",
      "source": [
        "#MATRIX\n",
        "MATRIX = torch.tensor([[7,8], [9, 10]])\n",
        "MATRIX"
      ],
      "metadata": {
        "colab": {
          "base_uri": "https://localhost:8080/"
        },
        "id": "iMf1l97j5X8L",
        "outputId": "a7ef2c0c-0a6e-4eb0-81e3-be68321d0738"
      },
      "execution_count": 12,
      "outputs": [
        {
          "output_type": "execute_result",
          "data": {
            "text/plain": [
              "tensor([[ 7,  8],\n",
              "        [ 9, 10]])"
            ]
          },
          "metadata": {},
          "execution_count": 12
        }
      ]
    },
    {
      "cell_type": "code",
      "source": [
        "MATRIX.ndim"
      ],
      "metadata": {
        "colab": {
          "base_uri": "https://localhost:8080/"
        },
        "id": "a7uUGhzx5iqx",
        "outputId": "993baaf1-238a-49e8-9907-5ea84fbd09fc"
      },
      "execution_count": 13,
      "outputs": [
        {
          "output_type": "execute_result",
          "data": {
            "text/plain": [
              "2"
            ]
          },
          "metadata": {},
          "execution_count": 13
        }
      ]
    },
    {
      "cell_type": "code",
      "source": [
        "MATRIX[0]"
      ],
      "metadata": {
        "colab": {
          "base_uri": "https://localhost:8080/"
        },
        "id": "jBRyvfHW5ofb",
        "outputId": "84105492-35ce-42ad-fa7b-bb2a75e051f3"
      },
      "execution_count": 14,
      "outputs": [
        {
          "output_type": "execute_result",
          "data": {
            "text/plain": [
              "tensor([7, 8])"
            ]
          },
          "metadata": {},
          "execution_count": 14
        }
      ]
    },
    {
      "cell_type": "code",
      "source": [
        "MATRIX.shape"
      ],
      "metadata": {
        "colab": {
          "base_uri": "https://localhost:8080/"
        },
        "id": "MwCUBlwm58_h",
        "outputId": "108e3cff-44cc-4d7b-fc4b-68ab9301673e"
      },
      "execution_count": 15,
      "outputs": [
        {
          "output_type": "execute_result",
          "data": {
            "text/plain": [
              "torch.Size([2, 2])"
            ]
          },
          "metadata": {},
          "execution_count": 15
        }
      ]
    },
    {
      "cell_type": "code",
      "source": [
        "#TENSOR\n",
        "TENSOR = torch.tensor([[[1,2,3], [3,6,9],[2,4,5]]])\n",
        "TENSOR\n"
      ],
      "metadata": {
        "colab": {
          "base_uri": "https://localhost:8080/"
        },
        "id": "TG7kZDBK6CVJ",
        "outputId": "75a860f3-f024-4960-a867-b312ce39d950"
      },
      "execution_count": 16,
      "outputs": [
        {
          "output_type": "execute_result",
          "data": {
            "text/plain": [
              "tensor([[[1, 2, 3],\n",
              "         [3, 6, 9],\n",
              "         [2, 4, 5]]])"
            ]
          },
          "metadata": {},
          "execution_count": 16
        }
      ]
    },
    {
      "cell_type": "code",
      "source": [
        "TENSOR.ndim"
      ],
      "metadata": {
        "colab": {
          "base_uri": "https://localhost:8080/"
        },
        "id": "_DBnvUKv6YmZ",
        "outputId": "403c1545-885c-4d4d-f3ab-004a818268f4"
      },
      "execution_count": 17,
      "outputs": [
        {
          "output_type": "execute_result",
          "data": {
            "text/plain": [
              "3"
            ]
          },
          "metadata": {},
          "execution_count": 17
        }
      ]
    },
    {
      "cell_type": "code",
      "source": [
        "TENSOR.shape\n",
        "#below means 'have a single 3x3 shape tensor\n",
        "#can think of as corresponding to each bracket in above tensor output"
      ],
      "metadata": {
        "colab": {
          "base_uri": "https://localhost:8080/"
        },
        "id": "Y67q4WH-6eRK",
        "outputId": "7098b96e-7c85-4c24-83ab-7e196f247543"
      },
      "execution_count": 18,
      "outputs": [
        {
          "output_type": "execute_result",
          "data": {
            "text/plain": [
              "torch.Size([1, 3, 3])"
            ]
          },
          "metadata": {},
          "execution_count": 18
        }
      ]
    },
    {
      "cell_type": "code",
      "source": [
        "TENSOR[0]"
      ],
      "metadata": {
        "colab": {
          "base_uri": "https://localhost:8080/"
        },
        "id": "Y-7Y7rW76gb4",
        "outputId": "bec8eb4e-4189-46ed-8d50-85072876bb59"
      },
      "execution_count": 19,
      "outputs": [
        {
          "output_type": "execute_result",
          "data": {
            "text/plain": [
              "tensor([[1, 2, 3],\n",
              "        [3, 6, 9],\n",
              "        [2, 4, 5]])"
            ]
          },
          "metadata": {},
          "execution_count": 19
        }
      ]
    },
    {
      "cell_type": "code",
      "source": [
        "#TENSOR[1] -error, out of bounds ie only 1 dimension"
      ],
      "metadata": {
        "id": "tBqro6KlQ0HW"
      },
      "execution_count": 20,
      "outputs": []
    },
    {
      "cell_type": "code",
      "source": [
        "#tensor practice\n",
        "#tried copy/pasting same brackets as TENSOR twice, got error of 'takes 1\n",
        "#positional argument but two were given'...ie torch.tensor takes online 1 input\n",
        "# TENSOR1 = torch.tensor([[[1, 2, 3],\n",
        "#          [3, 6, 9],\n",
        "#          [2, 4, 5]]], [[[1, 2, 3],\n",
        "#          [3, 6, 9],\n",
        "#          [2, 4, 5]]])\n",
        "# TENSOR1\n",
        "\n",
        "TENSOR1 = torch.tensor([[[[1,2], [3,4], [5,6], [7,8]]]])\n",
        "TENSOR1"
      ],
      "metadata": {
        "colab": {
          "base_uri": "https://localhost:8080/"
        },
        "id": "uoK2vWahPBsE",
        "outputId": "554a6101-934f-4bc6-9788-46f7cbb3e765"
      },
      "execution_count": 21,
      "outputs": [
        {
          "output_type": "execute_result",
          "data": {
            "text/plain": [
              "tensor([[[[1, 2],\n",
              "          [3, 4],\n",
              "          [5, 6],\n",
              "          [7, 8]]]])"
            ]
          },
          "metadata": {},
          "execution_count": 21
        }
      ]
    },
    {
      "cell_type": "code",
      "source": [
        "TENSOR1.ndim"
      ],
      "metadata": {
        "colab": {
          "base_uri": "https://localhost:8080/"
        },
        "id": "9lYX_85yP-Te",
        "outputId": "eeaeb1d0-6655-4e9c-b61a-aa8a25006e1f"
      },
      "execution_count": 22,
      "outputs": [
        {
          "output_type": "execute_result",
          "data": {
            "text/plain": [
              "4"
            ]
          },
          "metadata": {},
          "execution_count": 22
        }
      ]
    },
    {
      "cell_type": "code",
      "source": [
        "TENSOR1.shape"
      ],
      "metadata": {
        "colab": {
          "base_uri": "https://localhost:8080/"
        },
        "id": "Etv8RLH8RVNh",
        "outputId": "230331e6-1abb-4613-cc67-266fa941b40c"
      },
      "execution_count": 23,
      "outputs": [
        {
          "output_type": "execute_result",
          "data": {
            "text/plain": [
              "torch.Size([1, 1, 4, 2])"
            ]
          },
          "metadata": {},
          "execution_count": 23
        }
      ]
    },
    {
      "cell_type": "code",
      "source": [
        "TENSOR2 = torch.tensor([[[[[1, 2],\n",
        "          [3, 4],\n",
        "          [5, 6],\n",
        "          [7, 8]],[[1, 2],\n",
        "          [3, 4],\n",
        "          [5, 6],\n",
        "          [7, 8]]]]])\n",
        "TENSOR2.ndim"
      ],
      "metadata": {
        "colab": {
          "base_uri": "https://localhost:8080/"
        },
        "id": "8RgRZCwERYuh",
        "outputId": "bc7898d8-61e3-4266-f80a-58d7d468e8ae"
      },
      "execution_count": 24,
      "outputs": [
        {
          "output_type": "execute_result",
          "data": {
            "text/plain": [
              "5"
            ]
          },
          "metadata": {},
          "execution_count": 24
        }
      ]
    },
    {
      "cell_type": "code",
      "source": [
        "TENSOR2.shape\n",
        "#you can move along each bracket and count # of instances in each bracket"
      ],
      "metadata": {
        "colab": {
          "base_uri": "https://localhost:8080/"
        },
        "id": "pRAy9LyJUQaL",
        "outputId": "4ce81d36-49c0-4611-df3f-c169c9de82dc"
      },
      "execution_count": 25,
      "outputs": [
        {
          "output_type": "execute_result",
          "data": {
            "text/plain": [
              "torch.Size([1, 1, 2, 4, 2])"
            ]
          },
          "metadata": {},
          "execution_count": 25
        }
      ]
    },
    {
      "cell_type": "code",
      "source": [
        "#note scalars and vectors by convention use lowercase, while matix/tensor use upper"
      ],
      "metadata": {
        "id": "lyV6xBscUSSJ"
      },
      "execution_count": 26,
      "outputs": []
    },
    {
      "cell_type": "markdown",
      "source": [
        "### Random Tensors\n",
        "\n",
        "Why random tensors?\n",
        "\n",
        "Important because the way many neural networks learn is they start with tensors full of random numbers, and then adjust those random numbers to better represent the data\n",
        "\n",
        "So...start random numbers, check with data, update random numbers, repeat\n",
        "\n",
        "Documentation: https://pytorch.org/docs/stable/generated/torch.rand.html"
      ],
      "metadata": {
        "id": "Bo16eKsJXj6z"
      }
    },
    {
      "cell_type": "code",
      "source": [
        "#Create a random tensor of size (3,4)\n",
        "random_tensor = torch.rand(3,4)\n",
        "random_tensor\n"
      ],
      "metadata": {
        "colab": {
          "base_uri": "https://localhost:8080/"
        },
        "id": "cjZgfvGgX_nc",
        "outputId": "065a00eb-6000-4515-e368-b9638f3fa364"
      },
      "execution_count": 27,
      "outputs": [
        {
          "output_type": "execute_result",
          "data": {
            "text/plain": [
              "tensor([[0.6275, 0.4792, 0.3323, 0.9826],\n",
              "        [0.0923, 0.0034, 0.1369, 0.0555],\n",
              "        [0.9425, 0.1395, 0.6210, 0.3942]])"
            ]
          },
          "metadata": {},
          "execution_count": 27
        }
      ]
    },
    {
      "cell_type": "code",
      "source": [
        "random_tensor.ndim"
      ],
      "metadata": {
        "colab": {
          "base_uri": "https://localhost:8080/"
        },
        "id": "myNZzD1w-ZaE",
        "outputId": "77eaa17e-9921-4371-c0de-557d2275300a"
      },
      "execution_count": 28,
      "outputs": [
        {
          "output_type": "execute_result",
          "data": {
            "text/plain": [
              "2"
            ]
          },
          "metadata": {},
          "execution_count": 28
        }
      ]
    },
    {
      "cell_type": "code",
      "source": [
        "random_tensor.shape"
      ],
      "metadata": {
        "colab": {
          "base_uri": "https://localhost:8080/"
        },
        "id": "blzJBQap-dRZ",
        "outputId": "143a87af-e817-42d5-eb61-f77ca855260a"
      },
      "execution_count": 29,
      "outputs": [
        {
          "output_type": "execute_result",
          "data": {
            "text/plain": [
              "torch.Size([3, 4])"
            ]
          },
          "metadata": {},
          "execution_count": 29
        }
      ]
    },
    {
      "cell_type": "code",
      "source": [
        "random_tensor = torch.rand(1,3,4)\n",
        "random_tensor"
      ],
      "metadata": {
        "colab": {
          "base_uri": "https://localhost:8080/"
        },
        "id": "u0zx2MgB-fH_",
        "outputId": "b590a4ca-c10d-497c-e2f7-a6be943c5921"
      },
      "execution_count": 30,
      "outputs": [
        {
          "output_type": "execute_result",
          "data": {
            "text/plain": [
              "tensor([[[0.4151, 0.4302, 0.0088, 0.2852],\n",
              "         [0.2111, 0.3500, 0.8748, 0.3185],\n",
              "         [0.1915, 0.9292, 0.7125, 0.6592]]])"
            ]
          },
          "metadata": {},
          "execution_count": 30
        }
      ]
    },
    {
      "cell_type": "code",
      "source": [
        "#create random tensor with similar shape to an image tensor\n",
        "#as seen here, almost anything can be represented as data\n",
        "random_image_size_tensor = torch.rand(size=(224, 224, 3)) #height, width, color channels (R, G, B)\n",
        "random_image_size_tensor.shape, random_image_size_tensor.ndim"
      ],
      "metadata": {
        "colab": {
          "base_uri": "https://localhost:8080/"
        },
        "id": "TO6_5oYX-lZU",
        "outputId": "5de1de1e-1301-4e68-840f-69d597aa50b7"
      },
      "execution_count": 31,
      "outputs": [
        {
          "output_type": "execute_result",
          "data": {
            "text/plain": [
              "(torch.Size([224, 224, 3]), 3)"
            ]
          },
          "metadata": {},
          "execution_count": 31
        }
      ]
    },
    {
      "cell_type": "code",
      "source": [
        "another_rand_tensor = torch.rand(3, 5, 5)\n",
        "another_rand_tensor"
      ],
      "metadata": {
        "colab": {
          "base_uri": "https://localhost:8080/"
        },
        "id": "jCv1hR6e_EZM",
        "outputId": "f4f82f8a-d067-4703-cf49-f5dbecb9fb9c"
      },
      "execution_count": 32,
      "outputs": [
        {
          "output_type": "execute_result",
          "data": {
            "text/plain": [
              "tensor([[[0.4215, 0.0620, 0.2430, 0.3273, 0.4025],\n",
              "         [0.7917, 0.9697, 0.2575, 0.5174, 0.1226],\n",
              "         [0.3555, 0.3325, 0.6115, 0.3050, 0.7790],\n",
              "         [0.0808, 0.7229, 0.7205, 0.6807, 0.6603],\n",
              "         [0.9019, 0.5795, 0.6104, 0.3968, 0.8376]],\n",
              "\n",
              "        [[0.0197, 0.1603, 0.7654, 0.9717, 0.7460],\n",
              "         [0.0401, 0.3654, 0.4749, 0.8409, 0.4361],\n",
              "         [0.6424, 0.1311, 0.5076, 0.8339, 0.1924],\n",
              "         [0.0767, 0.9640, 0.4267, 0.7657, 0.4464],\n",
              "         [0.1186, 0.9260, 0.2618, 0.2440, 0.9099]],\n",
              "\n",
              "        [[0.2729, 0.6679, 0.1284, 0.8127, 0.3068],\n",
              "         [0.5701, 0.0361, 0.2475, 0.6849, 0.2769],\n",
              "         [0.2513, 0.8559, 0.9231, 0.9999, 0.3954],\n",
              "         [0.2600, 0.6351, 0.5180, 0.4105, 0.4512],\n",
              "         [0.6895, 0.3459, 0.6001, 0.9870, 0.9133]]])"
            ]
          },
          "metadata": {},
          "execution_count": 32
        }
      ]
    },
    {
      "cell_type": "code",
      "source": [
        "#can also explicitely use the 'size' parameter\n",
        "# ex = torch.rand(size =(3, 3))\n",
        "# ex"
      ],
      "metadata": {
        "id": "CTmg6uUN_nwa"
      },
      "execution_count": 33,
      "outputs": []
    },
    {
      "cell_type": "markdown",
      "source": [
        "###Zeroes and ones"
      ],
      "metadata": {
        "id": "VNO2bj09BOhr"
      }
    },
    {
      "cell_type": "code",
      "source": [
        "#Create tensor of all zeros\n",
        "zeros = torch.zeros(size=(3,4))\n",
        "zeros"
      ],
      "metadata": {
        "colab": {
          "base_uri": "https://localhost:8080/"
        },
        "id": "agq9egWSBTW0",
        "outputId": "70b7da25-53db-422b-812d-4e0ff74b0db4"
      },
      "execution_count": 34,
      "outputs": [
        {
          "output_type": "execute_result",
          "data": {
            "text/plain": [
              "tensor([[0., 0., 0., 0.],\n",
              "        [0., 0., 0., 0.],\n",
              "        [0., 0., 0., 0.]])"
            ]
          },
          "metadata": {},
          "execution_count": 34
        }
      ]
    },
    {
      "cell_type": "code",
      "source": [
        "#If want to zero all numbers out in a tensor\n",
        "zeros*random_tensor"
      ],
      "metadata": {
        "colab": {
          "base_uri": "https://localhost:8080/"
        },
        "id": "A6PDktunBbYv",
        "outputId": "2da9aa96-e389-44c7-9c3b-135c3069ccf7"
      },
      "execution_count": 35,
      "outputs": [
        {
          "output_type": "execute_result",
          "data": {
            "text/plain": [
              "tensor([[[0., 0., 0., 0.],\n",
              "         [0., 0., 0., 0.],\n",
              "         [0., 0., 0., 0.]]])"
            ]
          },
          "metadata": {},
          "execution_count": 35
        }
      ]
    },
    {
      "cell_type": "code",
      "source": [
        "#Create a tensor of all ones\n",
        "ones = torch.ones(size=(3,4))\n",
        "ones"
      ],
      "metadata": {
        "colab": {
          "base_uri": "https://localhost:8080/"
        },
        "id": "iaPMxlDVBjYp",
        "outputId": "c21179ad-c0ae-4b2b-b041-8c94638d46e3"
      },
      "execution_count": 36,
      "outputs": [
        {
          "output_type": "execute_result",
          "data": {
            "text/plain": [
              "tensor([[1., 1., 1., 1.],\n",
              "        [1., 1., 1., 1.],\n",
              "        [1., 1., 1., 1.]])"
            ]
          },
          "metadata": {},
          "execution_count": 36
        }
      ]
    },
    {
      "cell_type": "code",
      "source": [
        "#Default data type of tensor\n",
        "ones.dtype"
      ],
      "metadata": {
        "colab": {
          "base_uri": "https://localhost:8080/"
        },
        "id": "kBO2nICuCHDz",
        "outputId": "edf0b56e-c39a-4db4-99b0-c770b794d8e7"
      },
      "execution_count": 37,
      "outputs": [
        {
          "output_type": "execute_result",
          "data": {
            "text/plain": [
              "torch.float32"
            ]
          },
          "metadata": {},
          "execution_count": 37
        }
      ]
    },
    {
      "cell_type": "markdown",
      "source": [
        "###Creating a range of tensors and tensors-like"
      ],
      "metadata": {
        "id": "rNSjqt46CJML"
      }
    },
    {
      "cell_type": "code",
      "source": [
        "#Torch.range() is not recommended due to inconsistent behavior,\n",
        "#torch.range(0, 10)"
      ],
      "metadata": {
        "id": "qEtO0nQVCfDA"
      },
      "execution_count": 38,
      "outputs": []
    },
    {
      "cell_type": "code",
      "source": [
        "#torch.arrange() is preferred\n",
        "one_to_ten = torch.arange(0, 10)\n",
        "one_to_ten"
      ],
      "metadata": {
        "colab": {
          "base_uri": "https://localhost:8080/"
        },
        "id": "N3hJDgCZCrFw",
        "outputId": "3c75a77c-544f-42ac-cc47-457445e80bf0"
      },
      "execution_count": 39,
      "outputs": [
        {
          "output_type": "execute_result",
          "data": {
            "text/plain": [
              "tensor([0, 1, 2, 3, 4, 5, 6, 7, 8, 9])"
            ]
          },
          "metadata": {},
          "execution_count": 39
        }
      ]
    },
    {
      "cell_type": "code",
      "source": [
        "#note the ending number is not inclusive\n",
        "arange_ex = torch.arange(start=0, end=1000, step=77)\n",
        "arange_ex"
      ],
      "metadata": {
        "colab": {
          "base_uri": "https://localhost:8080/"
        },
        "id": "CJogvs3MDAim",
        "outputId": "e3031b04-4354-495b-e854-978d02cfca1e"
      },
      "execution_count": 40,
      "outputs": [
        {
          "output_type": "execute_result",
          "data": {
            "text/plain": [
              "tensor([  0,  77, 154, 231, 308, 385, 462, 539, 616, 693, 770, 847, 924])"
            ]
          },
          "metadata": {},
          "execution_count": 40
        }
      ]
    },
    {
      "cell_type": "code",
      "source": [
        "#Creating tensors like (in the same shape as)\n",
        "one_to_ten = torch.arange(0, 10)\n",
        "ten_zeros = torch.zeros_like(input=one_to_ten)\n",
        "ten_zeros"
      ],
      "metadata": {
        "colab": {
          "base_uri": "https://localhost:8080/"
        },
        "id": "J_tGo0TPDgN6",
        "outputId": "3c96dc6d-9d1a-4114-d625-7c0a0891fb7c"
      },
      "execution_count": 41,
      "outputs": [
        {
          "output_type": "execute_result",
          "data": {
            "text/plain": [
              "tensor([0, 0, 0, 0, 0, 0, 0, 0, 0, 0])"
            ]
          },
          "metadata": {},
          "execution_count": 41
        }
      ]
    },
    {
      "cell_type": "code",
      "source": [
        "X = torch.arange(3, 42, 7)\n",
        "Y = torch.zeros_like(X)\n",
        "Y"
      ],
      "metadata": {
        "colab": {
          "base_uri": "https://localhost:8080/"
        },
        "id": "DMNeLboFEDRP",
        "outputId": "20513394-d369-4766-baa6-a32fe75316a7"
      },
      "execution_count": 42,
      "outputs": [
        {
          "output_type": "execute_result",
          "data": {
            "text/plain": [
              "tensor([0, 0, 0, 0, 0, 0])"
            ]
          },
          "metadata": {},
          "execution_count": 42
        }
      ]
    },
    {
      "cell_type": "markdown",
      "source": [
        "\n",
        "\n",
        "```\n",
        "# This is formatted as code\n",
        "```\n",
        "\n",
        "###Tensor datatypes\n",
        "\n",
        "**Note:** Tensor datatypes is one fo the 3 big errors with PyTorch and deep learning\n",
        "1. Tensors not right datatype\n",
        "2. Tensors not right shape\n",
        "3. Tensors not on the right device"
      ],
      "metadata": {
        "id": "-tWh1yBSE2k1"
      }
    },
    {
      "cell_type": "code",
      "source": [
        "#Float 32 tensor\n",
        "#If trying to set default type as None, still set as torch.float32\n",
        "float_32_tensor = torch.tensor([3.0, 6.0, 9.0],\n",
        "                               dtype=torch.float32, #what datatype is the tensor\n",
        "                               device=None, # What device is your tensor on -'cuda' or 'cpu'-if try to do something with tensors on different devices, will produce error\n",
        "                               requires_grad=False) # If want PyTorch to track gradients when tensors go through certain calculations\n",
        "float_32_tensor\n"
      ],
      "metadata": {
        "colab": {
          "base_uri": "https://localhost:8080/"
        },
        "id": "g1dzbrDdFLlP",
        "outputId": "e9215bc4-e6d8-49d0-f497-b5fd54b6d325"
      },
      "execution_count": 43,
      "outputs": [
        {
          "output_type": "execute_result",
          "data": {
            "text/plain": [
              "tensor([3., 6., 9.])"
            ]
          },
          "metadata": {},
          "execution_count": 43
        }
      ]
    },
    {
      "cell_type": "code",
      "source": [
        "float_32_tensor.dtype"
      ],
      "metadata": {
        "colab": {
          "base_uri": "https://localhost:8080/"
        },
        "id": "UiSfc-ApLAxh",
        "outputId": "055e6ad6-af02-47af-9d87-e2c085d693d0"
      },
      "execution_count": 44,
      "outputs": [
        {
          "output_type": "execute_result",
          "data": {
            "text/plain": [
              "torch.float32"
            ]
          },
          "metadata": {},
          "execution_count": 44
        }
      ]
    },
    {
      "cell_type": "code",
      "source": [
        "float_16_tensor = float_32_tensor.type(torch.float16)\n",
        "float_16_tensor"
      ],
      "metadata": {
        "colab": {
          "base_uri": "https://localhost:8080/"
        },
        "id": "BJa3dLvuKr_U",
        "outputId": "0f569031-b135-474d-f42c-5005b7f5e812"
      },
      "execution_count": 45,
      "outputs": [
        {
          "output_type": "execute_result",
          "data": {
            "text/plain": [
              "tensor([3., 6., 9.], dtype=torch.float16)"
            ]
          },
          "metadata": {},
          "execution_count": 45
        }
      ]
    },
    {
      "cell_type": "code",
      "source": [
        "#Runs fine, be aware of unexpected behavior though with different dtypes\n",
        "float_32_tensor * float_16_tensor"
      ],
      "metadata": {
        "colab": {
          "base_uri": "https://localhost:8080/"
        },
        "id": "PGfoYfEXK66q",
        "outputId": "79af537c-a96d-4ce5-8a9a-564f06a1603b"
      },
      "execution_count": 46,
      "outputs": [
        {
          "output_type": "execute_result",
          "data": {
            "text/plain": [
              "tensor([ 9., 36., 81.])"
            ]
          },
          "metadata": {},
          "execution_count": 46
        }
      ]
    },
    {
      "cell_type": "code",
      "source": [
        "int_32_tensor = torch.tensor([3,6,9], dtype=torch.int32)\n",
        "int_32_tensor"
      ],
      "metadata": {
        "colab": {
          "base_uri": "https://localhost:8080/"
        },
        "id": "3ELp_xsaLPAN",
        "outputId": "68bbb132-cc0a-491c-e147-2dd9f1c7bfe4"
      },
      "execution_count": 47,
      "outputs": [
        {
          "output_type": "execute_result",
          "data": {
            "text/plain": [
              "tensor([3, 6, 9], dtype=torch.int32)"
            ]
          },
          "metadata": {},
          "execution_count": 47
        }
      ]
    },
    {
      "cell_type": "code",
      "source": [
        "float_32_tensor * int_32_tensor"
      ],
      "metadata": {
        "colab": {
          "base_uri": "https://localhost:8080/"
        },
        "id": "zvmoZ3ttXlw-",
        "outputId": "230fbb3c-7812-4f24-be85-e0f1a7dfae73"
      },
      "execution_count": 48,
      "outputs": [
        {
          "output_type": "execute_result",
          "data": {
            "text/plain": [
              "tensor([ 9., 36., 81.])"
            ]
          },
          "metadata": {},
          "execution_count": 48
        }
      ]
    },
    {
      "cell_type": "markdown",
      "source": [
        "###Getting information from tensors\n",
        "\n",
        "\n",
        "1. Tensors not right datatype- get datatype from a tensor, use `tensor.dtype`\n",
        "2. Tensors not right shape-to get shape use `tensor.shape`\n",
        "3. Tensors not on the right device- to get device, use `tensor.device`\n",
        "\n",
        "NOTE: tensor.shape and tensor.size() can be used interchangably"
      ],
      "metadata": {
        "id": "0g_ku-VjXqQV"
      }
    },
    {
      "cell_type": "code",
      "source": [
        "#create a tensor\n",
        "some_tensor = torch.rand(3,4)\n",
        "some_tensor"
      ],
      "metadata": {
        "colab": {
          "base_uri": "https://localhost:8080/"
        },
        "id": "B1295tubYWqX",
        "outputId": "16ddeb51-f4ac-4bd4-f169-dd7409410f89"
      },
      "execution_count": 49,
      "outputs": [
        {
          "output_type": "execute_result",
          "data": {
            "text/plain": [
              "tensor([[0.3192, 0.1953, 0.4302, 0.5927],\n",
              "        [0.1268, 0.1396, 0.4980, 0.5593],\n",
              "        [0.4736, 0.8252, 0.1776, 0.8019]])"
            ]
          },
          "metadata": {},
          "execution_count": 49
        }
      ]
    },
    {
      "cell_type": "code",
      "source": [
        "#Find out details about some tensor\n",
        "print(some_tensor)\n",
        "print(f\"Datatype of tensor: {some_tensor.dtype}\")\n",
        "print(f\"Shape of tensor: {some_tensor.shape}\")\n",
        "print(f\"Device tensor is on: {some_tensor.device}\")\n"
      ],
      "metadata": {
        "colab": {
          "base_uri": "https://localhost:8080/"
        },
        "id": "OihWprW3Yfjw",
        "outputId": "211152c9-2cd7-4849-8b99-d6d11e9c4d7c"
      },
      "execution_count": 50,
      "outputs": [
        {
          "output_type": "stream",
          "name": "stdout",
          "text": [
            "tensor([[0.3192, 0.1953, 0.4302, 0.5927],\n",
            "        [0.1268, 0.1396, 0.4980, 0.5593],\n",
            "        [0.4736, 0.8252, 0.1776, 0.8019]])\n",
            "Datatype of tensor: torch.float32\n",
            "Shape of tensor: torch.Size([3, 4])\n",
            "Device tensor is on: cpu\n"
          ]
        }
      ]
    },
    {
      "cell_type": "markdown",
      "source": [
        "###Manipulating Tensors (tensor operations)\n",
        "\n",
        "Tensor operations include:\n",
        "*Addition\n",
        "*Subtraction\n",
        "*Multiplication (element-wise)\n",
        "*Division\n",
        "*Matrix multiplication"
      ],
      "metadata": {
        "id": "i8UhyblA7JN5"
      }
    },
    {
      "cell_type": "code",
      "source": [
        "#Create a tensor\n",
        "tensor = torch.tensor([1,2,3])\n",
        "tensor + 100"
      ],
      "metadata": {
        "colab": {
          "base_uri": "https://localhost:8080/"
        },
        "id": "Qn9sdreN7axZ",
        "outputId": "e08af8ee-e323-470d-dac7-bbd4dd18d34b"
      },
      "execution_count": 51,
      "outputs": [
        {
          "output_type": "execute_result",
          "data": {
            "text/plain": [
              "tensor([101, 102, 103])"
            ]
          },
          "metadata": {},
          "execution_count": 51
        }
      ]
    },
    {
      "cell_type": "code",
      "source": [
        "#Multiply\n",
        "tensor = torch.tensor([1,2,3])\n",
        "tensor * 10"
      ],
      "metadata": {
        "colab": {
          "base_uri": "https://localhost:8080/"
        },
        "id": "OObecGf_7iNE",
        "outputId": "c3b40f47-a2b6-4add-a263-13fdfdaa921f"
      },
      "execution_count": 52,
      "outputs": [
        {
          "output_type": "execute_result",
          "data": {
            "text/plain": [
              "tensor([10, 20, 30])"
            ]
          },
          "metadata": {},
          "execution_count": 52
        }
      ]
    },
    {
      "cell_type": "code",
      "source": [
        "#Subtract\n",
        "tensor = torch.tensor([1,2,3])\n",
        "tensor - 10"
      ],
      "metadata": {
        "colab": {
          "base_uri": "https://localhost:8080/"
        },
        "id": "0V8qFYTq7rKS",
        "outputId": "539db810-fe1b-4581-9269-95c0964c43c8"
      },
      "execution_count": 53,
      "outputs": [
        {
          "output_type": "execute_result",
          "data": {
            "text/plain": [
              "tensor([-9, -8, -7])"
            ]
          },
          "metadata": {},
          "execution_count": 53
        }
      ]
    },
    {
      "cell_type": "code",
      "source": [
        "#Try out PyTorch in-built functions\n",
        "#Generally use basic methods, easier to read\n",
        "torch.mul(tensor, 10)\n"
      ],
      "metadata": {
        "colab": {
          "base_uri": "https://localhost:8080/"
        },
        "id": "sgC2w2JK74iI",
        "outputId": "33c63b96-371e-43e2-b3bf-f15b2a7fcbd8"
      },
      "execution_count": 54,
      "outputs": [
        {
          "output_type": "execute_result",
          "data": {
            "text/plain": [
              "tensor([10, 20, 30])"
            ]
          },
          "metadata": {},
          "execution_count": 54
        }
      ]
    },
    {
      "cell_type": "markdown",
      "source": [
        "#Matrix multiplication-number of columns of 1st matrix must match number of rows of 2nd\n",
        "\n",
        "Or multiplying an MxN by an NxP matrix (Ns are the same) you get MxP\n",
        "\n",
        "Multiplying a 1x3 by a 3x1 results in 1x1\n",
        "But a 3x1 by a 1x3 results in a 3x3\n"
      ],
      "metadata": {
        "id": "c22HmxRF7-Q0"
      }
    },
    {
      "cell_type": "markdown",
      "source": [
        "###Matrix Multiplication\n",
        "\n",
        "Two main ways of performing multiplication in neural networks and deep learning:\n",
        "\n",
        "1. Element-wise multiplication\n",
        "2. Matrix multiplication(dot product)\n",
        "\n",
        "Reference: https://www.mathsisfun.com/algebra/matrix-multiplying.html\n",
        "\n",
        "There are two main rules that performing matrix multiplication needs to satisfy:\n",
        "\n",
        "1. The **inner dimensions** must match:\n",
        "* `(3, 2) @ (3, 2)` won't work\n",
        "* `(2, 3) @ (3, 2)` will work\n",
        "* `(3, 2) @ (2, 3)` will work\n",
        "\n",
        "2. The resulting matrix has the shape of the **outer dimensions**:\n",
        "* `(2, 3) @ (3, 2)` -> `(2,2)`\n",
        "* `(3, 2) @ (2, 3)` -> `(3,3)`\n",
        "\n",
        "\n",
        "Visualization resource: http://matrixmultiplication.xyz/\n"
      ],
      "metadata": {
        "id": "gqBKo3cwCeDn"
      }
    },
    {
      "cell_type": "code",
      "source": [
        "torch.matmul(torch.rand(3,2), torch.rand(3,2))"
      ],
      "metadata": {
        "colab": {
          "base_uri": "https://localhost:8080/",
          "height": 169
        },
        "id": "PmYoYyK2wsAc",
        "outputId": "97a66db8-84ad-4a4e-d4ca-a999df676367"
      },
      "execution_count": 65,
      "outputs": [
        {
          "output_type": "error",
          "ename": "RuntimeError",
          "evalue": "ignored",
          "traceback": [
            "\u001b[0;31m---------------------------------------------------------------------------\u001b[0m",
            "\u001b[0;31mRuntimeError\u001b[0m                              Traceback (most recent call last)",
            "\u001b[0;32m<ipython-input-65-16a1e5dd04a2>\u001b[0m in \u001b[0;36m<cell line: 1>\u001b[0;34m()\u001b[0m\n\u001b[0;32m----> 1\u001b[0;31m \u001b[0mtorch\u001b[0m\u001b[0;34m.\u001b[0m\u001b[0mmatmul\u001b[0m\u001b[0;34m(\u001b[0m\u001b[0mtorch\u001b[0m\u001b[0;34m.\u001b[0m\u001b[0mrand\u001b[0m\u001b[0;34m(\u001b[0m\u001b[0;36m3\u001b[0m\u001b[0;34m,\u001b[0m\u001b[0;36m2\u001b[0m\u001b[0;34m)\u001b[0m\u001b[0;34m,\u001b[0m \u001b[0mtorch\u001b[0m\u001b[0;34m.\u001b[0m\u001b[0mrand\u001b[0m\u001b[0;34m(\u001b[0m\u001b[0;36m3\u001b[0m\u001b[0;34m,\u001b[0m\u001b[0;36m2\u001b[0m\u001b[0;34m)\u001b[0m\u001b[0;34m)\u001b[0m\u001b[0;34m\u001b[0m\u001b[0;34m\u001b[0m\u001b[0m\n\u001b[0m",
            "\u001b[0;31mRuntimeError\u001b[0m: mat1 and mat2 shapes cannot be multiplied (3x2 and 3x2)"
          ]
        }
      ]
    },
    {
      "cell_type": "code",
      "source": [
        "#Element wise multiplication\n",
        "tensor * tensor\n",
        "print(tensor, \"*\", tensor)\n",
        "print(f\"Equals: {tensor * tensor}\")"
      ],
      "metadata": {
        "colab": {
          "base_uri": "https://localhost:8080/"
        },
        "id": "JZVunSkguJqF",
        "outputId": "672fd577-2f27-4506-9b92-8b177171b5fd"
      },
      "execution_count": 57,
      "outputs": [
        {
          "output_type": "stream",
          "name": "stdout",
          "text": [
            "tensor([1, 2, 3]) * tensor([1, 2, 3])\n",
            "Equals: tensor([1, 4, 9])\n"
          ]
        }
      ]
    },
    {
      "cell_type": "code",
      "source": [
        "#Matrix multiplication\n",
        "# The @ symbol can also be substituted (tensor @ tensor) but matmul is clearer\n",
        "torch.matmul(tensor, tensor)"
      ],
      "metadata": {
        "colab": {
          "base_uri": "https://localhost:8080/"
        },
        "id": "8ReZNCGJuY8k",
        "outputId": "e8e44ed9-c738-4903-9a08-92a53dc66fa1"
      },
      "execution_count": 58,
      "outputs": [
        {
          "output_type": "execute_result",
          "data": {
            "text/plain": [
              "tensor(14)"
            ]
          },
          "metadata": {},
          "execution_count": 58
        }
      ]
    },
    {
      "cell_type": "code",
      "source": [
        "#Matrix multiplcation by hand\n",
        "1*1 + 2*2 + 3*3"
      ],
      "metadata": {
        "colab": {
          "base_uri": "https://localhost:8080/"
        },
        "id": "JAGSNS2surBY",
        "outputId": "4b7b81ba-a957-4950-c7ca-239f6f8ae6cd"
      },
      "execution_count": 59,
      "outputs": [
        {
          "output_type": "execute_result",
          "data": {
            "text/plain": [
              "14"
            ]
          },
          "metadata": {},
          "execution_count": 59
        }
      ]
    },
    {
      "cell_type": "code",
      "source": [
        "%%time\n",
        "value = 0\n",
        "for i in range(len(tensor)):\n",
        "  value += tensor[i] * tensor[i]\n",
        "print(value)"
      ],
      "metadata": {
        "colab": {
          "base_uri": "https://localhost:8080/"
        },
        "id": "T4glLMu-u6rb",
        "outputId": "d4233036-8daf-4cec-e66d-a227b5f2e924"
      },
      "execution_count": 62,
      "outputs": [
        {
          "output_type": "stream",
          "name": "stdout",
          "text": [
            "tensor(14)\n",
            "CPU times: user 2.26 ms, sys: 0 ns, total: 2.26 ms\n",
            "Wall time: 2.27 ms\n"
          ]
        }
      ]
    },
    {
      "cell_type": "code",
      "source": [
        "%%time\n",
        "torch.matmul(tensor, tensor)"
      ],
      "metadata": {
        "colab": {
          "base_uri": "https://localhost:8080/"
        },
        "id": "c-0JZV1yvMmk",
        "outputId": "0d4578cd-8a19-4194-d159-ea150d46752b"
      },
      "execution_count": 63,
      "outputs": [
        {
          "output_type": "stream",
          "name": "stdout",
          "text": [
            "CPU times: user 1.01 ms, sys: 0 ns, total: 1.01 ms\n",
            "Wall time: 1.67 ms\n"
          ]
        },
        {
          "output_type": "execute_result",
          "data": {
            "text/plain": [
              "tensor(14)"
            ]
          },
          "metadata": {},
          "execution_count": 63
        }
      ]
    },
    {
      "cell_type": "code",
      "source": [
        "#Notice how matmul is much faster"
      ],
      "metadata": {
        "id": "nGvpfUf3vZ13"
      },
      "execution_count": 64,
      "outputs": []
    },
    {
      "cell_type": "markdown",
      "source": [
        "###One of the most common erros in deep learning is shape errors"
      ],
      "metadata": {
        "id": "Li4Zu9Gbv3uh"
      }
    }
  ]
}