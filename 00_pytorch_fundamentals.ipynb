{
  "nbformat": 4,
  "nbformat_minor": 0,
  "metadata": {
    "colab": {
      "provenance": [],
      "gpuType": "T4",
      "authorship_tag": "ABX9TyN0xIvvWF1QjQvOzuxcO1u4",
      "include_colab_link": true
    },
    "kernelspec": {
      "name": "python3",
      "display_name": "Python 3"
    },
    "language_info": {
      "name": "python"
    }
  },
  "cells": [
    {
      "cell_type": "markdown",
      "metadata": {
        "id": "view-in-github",
        "colab_type": "text"
      },
      "source": [
        "<a href=\"https://colab.research.google.com/github/RyanAugustyn/Pytorch-Intro/blob/main/00_pytorch_fundamentals.ipynb\" target=\"_parent\"><img src=\"https://colab.research.google.com/assets/colab-badge.svg\" alt=\"Open In Colab\"/></a>"
      ]
    },
    {
      "cell_type": "markdown",
      "source": [
        "# 00. PyTorch Fundamentals\n",
        "\n",
        "Resource notebook: https://www.learnpytorch.io/00_pytorch_fundamentals/\n",
        "\n",
        "Course github discussion: https://github.com/mrdbourke/pytorch-deep-learning/discussions\n",
        "\n"
      ],
      "metadata": {
        "id": "ni6MfR7gvell"
      }
    },
    {
      "cell_type": "markdown",
      "source": [
        "Changed the above to text cell by highlighting and hitting ctrl + mm\n",
        "\n"
      ],
      "metadata": {
        "id": "Ku5siWeQwkMJ"
      }
    },
    {
      "cell_type": "markdown",
      "source": [
        "Hit shift + enter to start a new code cell while typing, or if not in a cell hit ctrl + mb"
      ],
      "metadata": {
        "id": "pUnhS3O5w0JN"
      }
    },
    {
      "cell_type": "code",
      "source": [
        "import torch\n",
        "import pandas as pd\n",
        "import numpy as np\n",
        "import matplotlib.pyplot as plt\n",
        "print(torch.__version__)"
      ],
      "metadata": {
        "colab": {
          "base_uri": "https://localhost:8080/"
        },
        "id": "SwxBkkVqxCt5",
        "outputId": "1696ad3b-6f80-4326-f6ea-b2d7f4bd92f2"
      },
      "execution_count": 1,
      "outputs": [
        {
          "output_type": "stream",
          "name": "stdout",
          "text": [
            "2.0.1+cu118\n"
          ]
        }
      ]
    },
    {
      "cell_type": "code",
      "source": [
        "# Introduction to Tensors-Creating tensors\n",
        "\n",
        "#torch.tensor documentation at https://pytorch.org/docs/stable/tensors.html\n",
        "#encodes into 'tensor' data type\n",
        "\n",
        "#scalar\n",
        "scalar = torch.tensor(7)\n",
        "scalar\n"
      ],
      "metadata": {
        "colab": {
          "base_uri": "https://localhost:8080/"
        },
        "id": "fzhjGRJRyiLU",
        "outputId": "aaa2d3e1-8ebc-43c3-8c2b-95c1bef093d3"
      },
      "execution_count": 2,
      "outputs": [
        {
          "output_type": "execute_result",
          "data": {
            "text/plain": [
              "tensor(7)"
            ]
          },
          "metadata": {},
          "execution_count": 2
        }
      ]
    },
    {
      "cell_type": "code",
      "source": [
        "#has no dimensions\n",
        "scalar.ndim\n",
        "\n",
        "scalar2 = torch.tensor([[1,2], [3,4]])\n",
        "scalar2\n",
        "\n",
        "#tried running with different lengths, produced error when scalars not equal size\n",
        "scalar3 = torch.tensor([[1,2,2,2], [3,4,5,5], [6,7,8,9]])\n",
        "scalar3\n"
      ],
      "metadata": {
        "colab": {
          "base_uri": "https://localhost:8080/"
        },
        "id": "j-C8ED6M1-kS",
        "outputId": "21beb946-33c5-4b1a-8d53-32ebc48f3b87"
      },
      "execution_count": 3,
      "outputs": [
        {
          "output_type": "execute_result",
          "data": {
            "text/plain": [
              "tensor([[1, 2, 2, 2],\n",
              "        [3, 4, 5, 5],\n",
              "        [6, 7, 8, 9]])"
            ]
          },
          "metadata": {},
          "execution_count": 3
        }
      ]
    },
    {
      "cell_type": "code",
      "source": [
        "scalar2.ndim"
      ],
      "metadata": {
        "colab": {
          "base_uri": "https://localhost:8080/"
        },
        "id": "v6E-T3c527Ei",
        "outputId": "4dd86c16-a51f-40f1-f93f-31ad372e26c5"
      },
      "execution_count": 4,
      "outputs": [
        {
          "output_type": "execute_result",
          "data": {
            "text/plain": [
              "2"
            ]
          },
          "metadata": {},
          "execution_count": 4
        }
      ]
    },
    {
      "cell_type": "code",
      "source": [
        "scalar3.ndim"
      ],
      "metadata": {
        "colab": {
          "base_uri": "https://localhost:8080/"
        },
        "id": "1d6haf_G3gNA",
        "outputId": "f6b04fd8-7b7e-4b80-fe06-61c49dae013e"
      },
      "execution_count": 5,
      "outputs": [
        {
          "output_type": "execute_result",
          "data": {
            "text/plain": [
              "2"
            ]
          },
          "metadata": {},
          "execution_count": 5
        }
      ]
    },
    {
      "cell_type": "code",
      "source": [
        "#get tensor back as Python int\n",
        "scalar.item()"
      ],
      "metadata": {
        "colab": {
          "base_uri": "https://localhost:8080/"
        },
        "id": "nfmvA9X_2TZp",
        "outputId": "064c58b5-8f3b-4018-f971-26dd779e3181"
      },
      "execution_count": 6,
      "outputs": [
        {
          "output_type": "execute_result",
          "data": {
            "text/plain": [
              "7"
            ]
          },
          "metadata": {},
          "execution_count": 6
        }
      ]
    },
    {
      "cell_type": "code",
      "source": [
        "#Vector\n",
        "vector = torch.tensor([7, 7])\n",
        "vector"
      ],
      "metadata": {
        "colab": {
          "base_uri": "https://localhost:8080/"
        },
        "id": "7TSde_o82bT1",
        "outputId": "3911fc49-325a-41c1-873c-686bf93131d7"
      },
      "execution_count": 7,
      "outputs": [
        {
          "output_type": "execute_result",
          "data": {
            "text/plain": [
              "tensor([7, 7])"
            ]
          },
          "metadata": {},
          "execution_count": 7
        }
      ]
    },
    {
      "cell_type": "code",
      "source": [
        "vector.ndim"
      ],
      "metadata": {
        "colab": {
          "base_uri": "https://localhost:8080/"
        },
        "id": "wEUKWBWE3sV7",
        "outputId": "bed0c9d5-5f69-4462-9ad3-4c45a49c2d8a"
      },
      "execution_count": 8,
      "outputs": [
        {
          "output_type": "execute_result",
          "data": {
            "text/plain": [
              "1"
            ]
          },
          "metadata": {},
          "execution_count": 8
        }
      ]
    },
    {
      "cell_type": "code",
      "source": [
        "vector.shape"
      ],
      "metadata": {
        "colab": {
          "base_uri": "https://localhost:8080/"
        },
        "id": "geDjjwcO46Wi",
        "outputId": "769781d4-2406-4aa2-9944-41e63f219bb0"
      },
      "execution_count": 9,
      "outputs": [
        {
          "output_type": "execute_result",
          "data": {
            "text/plain": [
              "torch.Size([2])"
            ]
          },
          "metadata": {},
          "execution_count": 9
        }
      ]
    },
    {
      "cell_type": "code",
      "source": [
        "#dimension correspond to number of square brackets (number of pairs of closing square brackets)\n",
        "#but shape of above vector is 2"
      ],
      "metadata": {
        "id": "k2cx-XBB5Awt"
      },
      "execution_count": 10,
      "outputs": []
    },
    {
      "cell_type": "code",
      "source": [
        "#MATRIX\n",
        "MATRIX = torch.tensor([[7,8], [9, 10]])\n",
        "MATRIX"
      ],
      "metadata": {
        "colab": {
          "base_uri": "https://localhost:8080/"
        },
        "id": "iMf1l97j5X8L",
        "outputId": "62d51911-90da-4edb-806f-67b60a68eb52"
      },
      "execution_count": 11,
      "outputs": [
        {
          "output_type": "execute_result",
          "data": {
            "text/plain": [
              "tensor([[ 7,  8],\n",
              "        [ 9, 10]])"
            ]
          },
          "metadata": {},
          "execution_count": 11
        }
      ]
    },
    {
      "cell_type": "code",
      "source": [
        "MATRIX.ndim"
      ],
      "metadata": {
        "colab": {
          "base_uri": "https://localhost:8080/"
        },
        "id": "a7uUGhzx5iqx",
        "outputId": "574ef287-e46f-413d-c5bc-c0cdae03e4ed"
      },
      "execution_count": 12,
      "outputs": [
        {
          "output_type": "execute_result",
          "data": {
            "text/plain": [
              "2"
            ]
          },
          "metadata": {},
          "execution_count": 12
        }
      ]
    },
    {
      "cell_type": "code",
      "source": [
        "MATRIX[0]"
      ],
      "metadata": {
        "colab": {
          "base_uri": "https://localhost:8080/"
        },
        "id": "jBRyvfHW5ofb",
        "outputId": "e048d506-643a-4ffa-d993-13cedf2b6624"
      },
      "execution_count": 13,
      "outputs": [
        {
          "output_type": "execute_result",
          "data": {
            "text/plain": [
              "tensor([7, 8])"
            ]
          },
          "metadata": {},
          "execution_count": 13
        }
      ]
    },
    {
      "cell_type": "code",
      "source": [
        "MATRIX.shape"
      ],
      "metadata": {
        "colab": {
          "base_uri": "https://localhost:8080/"
        },
        "id": "MwCUBlwm58_h",
        "outputId": "1129f49c-8839-435e-f77e-25f8dba8795e"
      },
      "execution_count": 14,
      "outputs": [
        {
          "output_type": "execute_result",
          "data": {
            "text/plain": [
              "torch.Size([2, 2])"
            ]
          },
          "metadata": {},
          "execution_count": 14
        }
      ]
    },
    {
      "cell_type": "code",
      "source": [
        "#TENSOR\n",
        "TENSOR = torch.tensor([[[1,2,3], [3,6,9],[2,4,5]]])\n",
        "TENSOR\n"
      ],
      "metadata": {
        "colab": {
          "base_uri": "https://localhost:8080/"
        },
        "id": "TG7kZDBK6CVJ",
        "outputId": "2e9e936e-000b-4922-8579-1d336518fce4"
      },
      "execution_count": 15,
      "outputs": [
        {
          "output_type": "execute_result",
          "data": {
            "text/plain": [
              "tensor([[[1, 2, 3],\n",
              "         [3, 6, 9],\n",
              "         [2, 4, 5]]])"
            ]
          },
          "metadata": {},
          "execution_count": 15
        }
      ]
    },
    {
      "cell_type": "code",
      "source": [
        "TENSOR.ndim"
      ],
      "metadata": {
        "colab": {
          "base_uri": "https://localhost:8080/"
        },
        "id": "_DBnvUKv6YmZ",
        "outputId": "fbbf0c1c-2273-4b55-a186-c4d63a2a169b"
      },
      "execution_count": 16,
      "outputs": [
        {
          "output_type": "execute_result",
          "data": {
            "text/plain": [
              "3"
            ]
          },
          "metadata": {},
          "execution_count": 16
        }
      ]
    },
    {
      "cell_type": "code",
      "source": [
        "TENSOR.shape\n",
        "#below means 'have a single 3x3 shape tensor\n",
        "#can think of as corresponding to each bracket in above tensor output"
      ],
      "metadata": {
        "colab": {
          "base_uri": "https://localhost:8080/"
        },
        "id": "Y67q4WH-6eRK",
        "outputId": "85a6aa15-5206-4380-c11a-9a667cf2e82c"
      },
      "execution_count": 17,
      "outputs": [
        {
          "output_type": "execute_result",
          "data": {
            "text/plain": [
              "torch.Size([1, 3, 3])"
            ]
          },
          "metadata": {},
          "execution_count": 17
        }
      ]
    },
    {
      "cell_type": "code",
      "source": [
        "TENSOR[0]"
      ],
      "metadata": {
        "colab": {
          "base_uri": "https://localhost:8080/"
        },
        "id": "Y-7Y7rW76gb4",
        "outputId": "9c5d4c79-7447-424c-ed3c-25d82940a176"
      },
      "execution_count": 18,
      "outputs": [
        {
          "output_type": "execute_result",
          "data": {
            "text/plain": [
              "tensor([[1, 2, 3],\n",
              "        [3, 6, 9],\n",
              "        [2, 4, 5]])"
            ]
          },
          "metadata": {},
          "execution_count": 18
        }
      ]
    },
    {
      "cell_type": "code",
      "source": [
        "#TENSOR[1] -error, out of bounds ie only 1 dimension"
      ],
      "metadata": {
        "id": "tBqro6KlQ0HW"
      },
      "execution_count": 19,
      "outputs": []
    },
    {
      "cell_type": "code",
      "source": [
        "#tensor practice\n",
        "#tried copy/pasting same brackets as TENSOR twice, got error of 'takes 1\n",
        "#positional argument but two were given'...ie torch.tensor takes online 1 input\n",
        "# TENSOR1 = torch.tensor([[[1, 2, 3],\n",
        "#          [3, 6, 9],\n",
        "#          [2, 4, 5]]], [[[1, 2, 3],\n",
        "#          [3, 6, 9],\n",
        "#          [2, 4, 5]]])\n",
        "# TENSOR1\n",
        "\n",
        "TENSOR1 = torch.tensor([[[[1,2], [3,4], [5,6], [7,8]]]])\n",
        "TENSOR1"
      ],
      "metadata": {
        "colab": {
          "base_uri": "https://localhost:8080/"
        },
        "id": "uoK2vWahPBsE",
        "outputId": "083b82d8-398e-4dc6-aa08-22c870d26148"
      },
      "execution_count": 20,
      "outputs": [
        {
          "output_type": "execute_result",
          "data": {
            "text/plain": [
              "tensor([[[[1, 2],\n",
              "          [3, 4],\n",
              "          [5, 6],\n",
              "          [7, 8]]]])"
            ]
          },
          "metadata": {},
          "execution_count": 20
        }
      ]
    },
    {
      "cell_type": "code",
      "source": [
        "TENSOR1.ndim"
      ],
      "metadata": {
        "colab": {
          "base_uri": "https://localhost:8080/"
        },
        "id": "9lYX_85yP-Te",
        "outputId": "863b1b27-8ab8-4763-b055-f15547193c98"
      },
      "execution_count": 21,
      "outputs": [
        {
          "output_type": "execute_result",
          "data": {
            "text/plain": [
              "4"
            ]
          },
          "metadata": {},
          "execution_count": 21
        }
      ]
    },
    {
      "cell_type": "code",
      "source": [
        "TENSOR1.shape"
      ],
      "metadata": {
        "colab": {
          "base_uri": "https://localhost:8080/"
        },
        "id": "Etv8RLH8RVNh",
        "outputId": "01bb8b0c-f6db-4940-ae88-66d0aeebc2ab"
      },
      "execution_count": 22,
      "outputs": [
        {
          "output_type": "execute_result",
          "data": {
            "text/plain": [
              "torch.Size([1, 1, 4, 2])"
            ]
          },
          "metadata": {},
          "execution_count": 22
        }
      ]
    },
    {
      "cell_type": "code",
      "source": [
        "TENSOR2 = torch.tensor([[[[[1, 2],\n",
        "          [3, 4],\n",
        "          [5, 6],\n",
        "          [7, 8]],[[1, 2],\n",
        "          [3, 4],\n",
        "          [5, 6],\n",
        "          [7, 8]]]]])\n",
        "TENSOR2.ndim"
      ],
      "metadata": {
        "colab": {
          "base_uri": "https://localhost:8080/"
        },
        "id": "8RgRZCwERYuh",
        "outputId": "cc00e9ca-59a8-40cd-b666-d0e6dbe1e0cd"
      },
      "execution_count": 23,
      "outputs": [
        {
          "output_type": "execute_result",
          "data": {
            "text/plain": [
              "5"
            ]
          },
          "metadata": {},
          "execution_count": 23
        }
      ]
    },
    {
      "cell_type": "code",
      "source": [
        "TENSOR2.shape\n",
        "#you can move along each bracket and count # of instances in each bracket"
      ],
      "metadata": {
        "colab": {
          "base_uri": "https://localhost:8080/"
        },
        "id": "pRAy9LyJUQaL",
        "outputId": "5e68bf5d-a0b6-412f-f128-0de078167a85"
      },
      "execution_count": 24,
      "outputs": [
        {
          "output_type": "execute_result",
          "data": {
            "text/plain": [
              "torch.Size([1, 1, 2, 4, 2])"
            ]
          },
          "metadata": {},
          "execution_count": 24
        }
      ]
    },
    {
      "cell_type": "code",
      "source": [
        "#note scalars and vectors by convention use lowercase, while matix/tensor use upper"
      ],
      "metadata": {
        "id": "lyV6xBscUSSJ"
      },
      "execution_count": 25,
      "outputs": []
    },
    {
      "cell_type": "markdown",
      "source": [
        "### Random Tensors\n",
        "\n",
        "Why random tensors?\n",
        "\n",
        "Important because the way many neural networks learn is they start with tensors full of random numbers, and then adjust those random numbers to better represent the data\n",
        "\n",
        "So...start random numbers, check with data, update random numbers, repeat\n",
        "\n",
        "Documentation: https://pytorch.org/docs/stable/generated/torch.rand.html"
      ],
      "metadata": {
        "id": "Bo16eKsJXj6z"
      }
    },
    {
      "cell_type": "code",
      "source": [
        "#Create a random tensor of size (3,4)\n",
        "random_tensor = torch.rand(3,4)\n",
        "random_tensor\n"
      ],
      "metadata": {
        "colab": {
          "base_uri": "https://localhost:8080/"
        },
        "id": "cjZgfvGgX_nc",
        "outputId": "9db4f769-4798-4760-dd94-ebf0b7d6074b"
      },
      "execution_count": 27,
      "outputs": [
        {
          "output_type": "execute_result",
          "data": {
            "text/plain": [
              "tensor([[0.9234, 0.4905, 0.1576, 0.6491],\n",
              "        [0.1290, 0.4517, 0.1034, 0.3919],\n",
              "        [0.2049, 0.7134, 0.3044, 0.0244]])"
            ]
          },
          "metadata": {},
          "execution_count": 27
        }
      ]
    },
    {
      "cell_type": "code",
      "source": [
        "random_tensor.ndim"
      ],
      "metadata": {
        "colab": {
          "base_uri": "https://localhost:8080/"
        },
        "id": "myNZzD1w-ZaE",
        "outputId": "a3cbe915-a97e-433d-97a9-5f403e311e42"
      },
      "execution_count": 28,
      "outputs": [
        {
          "output_type": "execute_result",
          "data": {
            "text/plain": [
              "2"
            ]
          },
          "metadata": {},
          "execution_count": 28
        }
      ]
    },
    {
      "cell_type": "code",
      "source": [
        "random_tensor.shape"
      ],
      "metadata": {
        "colab": {
          "base_uri": "https://localhost:8080/"
        },
        "id": "blzJBQap-dRZ",
        "outputId": "1506ead7-65ba-4719-9e85-4cddf49a2a1f"
      },
      "execution_count": 29,
      "outputs": [
        {
          "output_type": "execute_result",
          "data": {
            "text/plain": [
              "torch.Size([3, 4])"
            ]
          },
          "metadata": {},
          "execution_count": 29
        }
      ]
    },
    {
      "cell_type": "code",
      "source": [
        "random_tensor = torch.rand(1,3,4)\n",
        "random_tensor"
      ],
      "metadata": {
        "colab": {
          "base_uri": "https://localhost:8080/"
        },
        "id": "u0zx2MgB-fH_",
        "outputId": "4abf666d-8882-4421-f078-bf03f745888e"
      },
      "execution_count": 31,
      "outputs": [
        {
          "output_type": "execute_result",
          "data": {
            "text/plain": [
              "tensor([[[0.7581, 0.8114, 0.2406, 0.6087],\n",
              "         [0.6729, 0.4492, 0.4394, 0.3094],\n",
              "         [0.8549, 0.0815, 0.5884, 0.3329]]])"
            ]
          },
          "metadata": {},
          "execution_count": 31
        }
      ]
    },
    {
      "cell_type": "code",
      "source": [
        "#create random tensor with similar shape to an image tensor\n",
        "#as seen here, almost anything can be represented as data\n",
        "random_image_size_tensor = torch.rand(size=(224, 224, 3)) #height, width, color channels (R, G, B)\n",
        "random_image_size_tensor.shape, random_image_size_tensor.ndim"
      ],
      "metadata": {
        "colab": {
          "base_uri": "https://localhost:8080/"
        },
        "id": "TO6_5oYX-lZU",
        "outputId": "486d9a92-537e-4124-9db2-f59aa14fbdcb"
      },
      "execution_count": 32,
      "outputs": [
        {
          "output_type": "execute_result",
          "data": {
            "text/plain": [
              "(torch.Size([224, 224, 3]), 3)"
            ]
          },
          "metadata": {},
          "execution_count": 32
        }
      ]
    },
    {
      "cell_type": "code",
      "source": [
        "another_rand_tensor = torch.rand(3, 5, 5)\n",
        "another_rand_tensor"
      ],
      "metadata": {
        "colab": {
          "base_uri": "https://localhost:8080/"
        },
        "id": "jCv1hR6e_EZM",
        "outputId": "33d7c896-4d25-488d-83ca-0f37ef40c454"
      },
      "execution_count": 33,
      "outputs": [
        {
          "output_type": "execute_result",
          "data": {
            "text/plain": [
              "tensor([[[0.6235, 0.1493, 0.3564, 0.9696, 0.9870],\n",
              "         [0.0842, 0.4305, 0.2072, 0.8154, 0.9479],\n",
              "         [0.7976, 0.5892, 0.7012, 0.7261, 0.7175],\n",
              "         [0.3227, 0.5857, 0.2626, 0.4806, 0.0562],\n",
              "         [0.5562, 0.9375, 0.2182, 0.9184, 0.9237]],\n",
              "\n",
              "        [[0.2952, 0.9851, 0.2124, 0.5424, 0.9654],\n",
              "         [0.7258, 0.4825, 0.8887, 0.8981, 0.0306],\n",
              "         [0.7798, 0.0581, 0.4572, 0.4017, 0.2135],\n",
              "         [0.9462, 0.7871, 0.2621, 0.3571, 0.5109],\n",
              "         [0.8664, 0.4679, 0.7064, 0.4339, 0.7573]],\n",
              "\n",
              "        [[0.7440, 0.6907, 0.2008, 0.9234, 0.4807],\n",
              "         [0.0365, 0.6811, 0.3917, 0.4914, 0.9286],\n",
              "         [0.1200, 0.9268, 0.4173, 0.4943, 0.0488],\n",
              "         [0.1593, 0.6827, 0.2347, 0.4321, 0.6118],\n",
              "         [0.4037, 0.9454, 0.1621, 0.4402, 0.3000]]])"
            ]
          },
          "metadata": {},
          "execution_count": 33
        }
      ]
    },
    {
      "cell_type": "code",
      "source": [],
      "metadata": {
        "id": "CTmg6uUN_nwa"
      },
      "execution_count": null,
      "outputs": []
    }
  ]
}