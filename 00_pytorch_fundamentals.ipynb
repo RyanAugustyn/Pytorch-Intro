{
  "nbformat": 4,
  "nbformat_minor": 0,
  "metadata": {
    "colab": {
      "provenance": [],
      "gpuType": "T4",
      "authorship_tag": "ABX9TyO2rQdFloJu7RwddLcZH7lh",
      "include_colab_link": true
    },
    "kernelspec": {
      "name": "python3",
      "display_name": "Python 3"
    },
    "language_info": {
      "name": "python"
    }
  },
  "cells": [
    {
      "cell_type": "markdown",
      "metadata": {
        "id": "view-in-github",
        "colab_type": "text"
      },
      "source": [
        "<a href=\"https://colab.research.google.com/github/RyanAugustyn/Pytorch-Intro/blob/main/00_pytorch_fundamentals.ipynb\" target=\"_parent\"><img src=\"https://colab.research.google.com/assets/colab-badge.svg\" alt=\"Open In Colab\"/></a>"
      ]
    },
    {
      "cell_type": "markdown",
      "source": [
        "# 00. PyTorch Fundamentals\n",
        "\n",
        "Resource notebook: https://www.learnpytorch.io/00_pytorch_fundamentals/\n",
        "\n",
        "Course github discussion: https://github.com/mrdbourke/pytorch-deep-learning/discussions\n",
        "\n"
      ],
      "metadata": {
        "id": "ni6MfR7gvell"
      }
    },
    {
      "cell_type": "markdown",
      "source": [
        "Changed the above to text cell by highlighting and hitting ctrl + mm\n",
        "\n"
      ],
      "metadata": {
        "id": "Ku5siWeQwkMJ"
      }
    },
    {
      "cell_type": "markdown",
      "source": [
        "Hit shift + enter to start a new code cell while typing, or if not in a cell hit ctrl + mb"
      ],
      "metadata": {
        "id": "pUnhS3O5w0JN"
      }
    },
    {
      "cell_type": "code",
      "source": [
        "import torch\n",
        "import pandas as pd\n",
        "import numpy as np\n",
        "import matplotlib.pyplot as plt\n",
        "print(torch.__version__)"
      ],
      "metadata": {
        "colab": {
          "base_uri": "https://localhost:8080/"
        },
        "id": "SwxBkkVqxCt5",
        "outputId": "d0996043-5017-4626-b92b-cfdd5e3e1f7a"
      },
      "execution_count": 1,
      "outputs": [
        {
          "output_type": "stream",
          "name": "stdout",
          "text": [
            "2.0.1+cu118\n"
          ]
        }
      ]
    },
    {
      "cell_type": "code",
      "source": [
        "# Introduction to Tensors-Creating tensors\n",
        "\n",
        "#torch.tensor documentation at https://pytorch.org/docs/stable/tensors.html\n",
        "#encodes into 'tensor' data type\n",
        "\n",
        "#scalar\n",
        "scalar = torch.tensor(7)\n",
        "scalar\n"
      ],
      "metadata": {
        "colab": {
          "base_uri": "https://localhost:8080/"
        },
        "id": "fzhjGRJRyiLU",
        "outputId": "f092150c-8d0f-42c4-f3f1-0074f4aa51a1"
      },
      "execution_count": 2,
      "outputs": [
        {
          "output_type": "execute_result",
          "data": {
            "text/plain": [
              "tensor(7)"
            ]
          },
          "metadata": {},
          "execution_count": 2
        }
      ]
    },
    {
      "cell_type": "code",
      "source": [
        "#has no dimensions\n",
        "scalar.ndim\n",
        "\n",
        "scalar2 = torch.tensor([[1,2], [3,4]])\n",
        "scalar2\n",
        "\n",
        "#tried running with different lengths, produced error when scalars not equal size\n",
        "scalar3 = torch.tensor([[1,2,2,2], [3,4,5,5], [6,7,8,9]])\n",
        "scalar3\n"
      ],
      "metadata": {
        "colab": {
          "base_uri": "https://localhost:8080/"
        },
        "id": "j-C8ED6M1-kS",
        "outputId": "0e6c0f10-2ec8-40f2-ea8a-cfe470d39424"
      },
      "execution_count": 3,
      "outputs": [
        {
          "output_type": "execute_result",
          "data": {
            "text/plain": [
              "tensor([[1, 2, 2, 2],\n",
              "        [3, 4, 5, 5],\n",
              "        [6, 7, 8, 9]])"
            ]
          },
          "metadata": {},
          "execution_count": 3
        }
      ]
    },
    {
      "cell_type": "code",
      "source": [
        "scalar2.ndim"
      ],
      "metadata": {
        "colab": {
          "base_uri": "https://localhost:8080/"
        },
        "id": "v6E-T3c527Ei",
        "outputId": "2d1fb4b4-899c-4b14-b3ea-feac30ed00a3"
      },
      "execution_count": 4,
      "outputs": [
        {
          "output_type": "execute_result",
          "data": {
            "text/plain": [
              "2"
            ]
          },
          "metadata": {},
          "execution_count": 4
        }
      ]
    },
    {
      "cell_type": "code",
      "source": [
        "scalar3.ndim"
      ],
      "metadata": {
        "colab": {
          "base_uri": "https://localhost:8080/"
        },
        "id": "1d6haf_G3gNA",
        "outputId": "beb2d54f-b7a8-4128-86ff-d1102060b5f5"
      },
      "execution_count": 5,
      "outputs": [
        {
          "output_type": "execute_result",
          "data": {
            "text/plain": [
              "2"
            ]
          },
          "metadata": {},
          "execution_count": 5
        }
      ]
    },
    {
      "cell_type": "code",
      "source": [
        "#get tensor back as Python int\n",
        "scalar.item()"
      ],
      "metadata": {
        "colab": {
          "base_uri": "https://localhost:8080/"
        },
        "id": "nfmvA9X_2TZp",
        "outputId": "1609b68b-64da-44b0-c27e-4c9cf3d50baa"
      },
      "execution_count": 6,
      "outputs": [
        {
          "output_type": "execute_result",
          "data": {
            "text/plain": [
              "7"
            ]
          },
          "metadata": {},
          "execution_count": 6
        }
      ]
    },
    {
      "cell_type": "code",
      "source": [
        "#Vector\n",
        "vector = torch.tensor([7, 7])\n",
        "vector"
      ],
      "metadata": {
        "colab": {
          "base_uri": "https://localhost:8080/"
        },
        "id": "7TSde_o82bT1",
        "outputId": "18ecc376-affc-4321-d374-77e1872611c1"
      },
      "execution_count": 7,
      "outputs": [
        {
          "output_type": "execute_result",
          "data": {
            "text/plain": [
              "tensor([7, 7])"
            ]
          },
          "metadata": {},
          "execution_count": 7
        }
      ]
    },
    {
      "cell_type": "code",
      "source": [
        "vector.ndim"
      ],
      "metadata": {
        "colab": {
          "base_uri": "https://localhost:8080/"
        },
        "id": "wEUKWBWE3sV7",
        "outputId": "bc59a3d1-d23b-491d-be90-d5f682b356d8"
      },
      "execution_count": 8,
      "outputs": [
        {
          "output_type": "execute_result",
          "data": {
            "text/plain": [
              "1"
            ]
          },
          "metadata": {},
          "execution_count": 8
        }
      ]
    },
    {
      "cell_type": "code",
      "source": [
        "vector.shape"
      ],
      "metadata": {
        "colab": {
          "base_uri": "https://localhost:8080/"
        },
        "id": "geDjjwcO46Wi",
        "outputId": "b534bc6b-c4da-459a-fc8a-3eb8708282eb"
      },
      "execution_count": 9,
      "outputs": [
        {
          "output_type": "execute_result",
          "data": {
            "text/plain": [
              "torch.Size([2])"
            ]
          },
          "metadata": {},
          "execution_count": 9
        }
      ]
    },
    {
      "cell_type": "code",
      "source": [
        "#dimension correspond to number of square brackets (number of pairs of closing square brackets)\n",
        "#but shape of above vector is 2"
      ],
      "metadata": {
        "id": "k2cx-XBB5Awt"
      },
      "execution_count": 10,
      "outputs": []
    },
    {
      "cell_type": "code",
      "source": [
        "#MATRIX\n",
        "MATRIX = torch.tensor([[7,8], [9, 10]])\n",
        "MATRIX"
      ],
      "metadata": {
        "colab": {
          "base_uri": "https://localhost:8080/"
        },
        "id": "iMf1l97j5X8L",
        "outputId": "11367898-697d-4a32-b011-4620a3c1487c"
      },
      "execution_count": 11,
      "outputs": [
        {
          "output_type": "execute_result",
          "data": {
            "text/plain": [
              "tensor([[ 7,  8],\n",
              "        [ 9, 10]])"
            ]
          },
          "metadata": {},
          "execution_count": 11
        }
      ]
    },
    {
      "cell_type": "code",
      "source": [
        "MATRIX.ndim"
      ],
      "metadata": {
        "colab": {
          "base_uri": "https://localhost:8080/"
        },
        "id": "a7uUGhzx5iqx",
        "outputId": "6838e10c-f89b-48ec-ac22-47fe0b11da08"
      },
      "execution_count": 12,
      "outputs": [
        {
          "output_type": "execute_result",
          "data": {
            "text/plain": [
              "2"
            ]
          },
          "metadata": {},
          "execution_count": 12
        }
      ]
    },
    {
      "cell_type": "code",
      "source": [
        "MATRIX[0]"
      ],
      "metadata": {
        "colab": {
          "base_uri": "https://localhost:8080/"
        },
        "id": "jBRyvfHW5ofb",
        "outputId": "d3d37788-d1e8-431d-a303-6d288b0a5905"
      },
      "execution_count": 13,
      "outputs": [
        {
          "output_type": "execute_result",
          "data": {
            "text/plain": [
              "tensor([7, 8])"
            ]
          },
          "metadata": {},
          "execution_count": 13
        }
      ]
    },
    {
      "cell_type": "code",
      "source": [
        "MATRIX.shape"
      ],
      "metadata": {
        "colab": {
          "base_uri": "https://localhost:8080/"
        },
        "id": "MwCUBlwm58_h",
        "outputId": "cfa2d188-f1e9-45f5-ba1a-edc30023c21e"
      },
      "execution_count": 14,
      "outputs": [
        {
          "output_type": "execute_result",
          "data": {
            "text/plain": [
              "torch.Size([2, 2])"
            ]
          },
          "metadata": {},
          "execution_count": 14
        }
      ]
    },
    {
      "cell_type": "code",
      "source": [
        "#TENSOR\n",
        "TENSOR = torch.tensor([[[1,2,3], [3,6,9],[2,4,5]]])\n",
        "TENSOR\n"
      ],
      "metadata": {
        "colab": {
          "base_uri": "https://localhost:8080/"
        },
        "id": "TG7kZDBK6CVJ",
        "outputId": "8d1ce0b7-df62-4c64-e9d4-59fc7af47bfe"
      },
      "execution_count": 15,
      "outputs": [
        {
          "output_type": "execute_result",
          "data": {
            "text/plain": [
              "tensor([[[1, 2, 3],\n",
              "         [3, 6, 9],\n",
              "         [2, 4, 5]]])"
            ]
          },
          "metadata": {},
          "execution_count": 15
        }
      ]
    },
    {
      "cell_type": "code",
      "source": [
        "TENSOR.ndim"
      ],
      "metadata": {
        "colab": {
          "base_uri": "https://localhost:8080/"
        },
        "id": "_DBnvUKv6YmZ",
        "outputId": "1758d04a-65be-4044-a7da-27d8c45bf9fb"
      },
      "execution_count": 16,
      "outputs": [
        {
          "output_type": "execute_result",
          "data": {
            "text/plain": [
              "3"
            ]
          },
          "metadata": {},
          "execution_count": 16
        }
      ]
    },
    {
      "cell_type": "code",
      "source": [
        "TENSOR.shape\n",
        "#below means 'have a single 3x3 shape tensor\n",
        "#can think of as corresponding to each bracket in above tensor output"
      ],
      "metadata": {
        "colab": {
          "base_uri": "https://localhost:8080/"
        },
        "id": "Y67q4WH-6eRK",
        "outputId": "93b9ea0b-f1cf-4c4a-d058-becae771e262"
      },
      "execution_count": 17,
      "outputs": [
        {
          "output_type": "execute_result",
          "data": {
            "text/plain": [
              "torch.Size([1, 3, 3])"
            ]
          },
          "metadata": {},
          "execution_count": 17
        }
      ]
    },
    {
      "cell_type": "code",
      "source": [
        "TENSOR[0]"
      ],
      "metadata": {
        "colab": {
          "base_uri": "https://localhost:8080/"
        },
        "id": "Y-7Y7rW76gb4",
        "outputId": "e5dd3e64-7458-4290-d5e8-cad0366e84bd"
      },
      "execution_count": 18,
      "outputs": [
        {
          "output_type": "execute_result",
          "data": {
            "text/plain": [
              "tensor([[1, 2, 3],\n",
              "        [3, 6, 9],\n",
              "        [2, 4, 5]])"
            ]
          },
          "metadata": {},
          "execution_count": 18
        }
      ]
    },
    {
      "cell_type": "code",
      "source": [
        "#TENSOR[1] -error, out of bounds ie only 1 dimension"
      ],
      "metadata": {
        "id": "tBqro6KlQ0HW"
      },
      "execution_count": 19,
      "outputs": []
    },
    {
      "cell_type": "code",
      "source": [
        "#tensor practice\n",
        "#tried copy/pasting same brackets as TENSOR twice, got error of 'takes 1\n",
        "#positional argument but two were given'...ie torch.tensor takes online 1 input\n",
        "# TENSOR1 = torch.tensor([[[1, 2, 3],\n",
        "#          [3, 6, 9],\n",
        "#          [2, 4, 5]]], [[[1, 2, 3],\n",
        "#          [3, 6, 9],\n",
        "#          [2, 4, 5]]])\n",
        "# TENSOR1\n",
        "\n",
        "TENSOR1 = torch.tensor([[[[1,2], [3,4], [5,6], [7,8]]]])\n",
        "TENSOR1"
      ],
      "metadata": {
        "colab": {
          "base_uri": "https://localhost:8080/"
        },
        "id": "uoK2vWahPBsE",
        "outputId": "a9e79634-f80e-4ee7-a78d-0fc26046a209"
      },
      "execution_count": 20,
      "outputs": [
        {
          "output_type": "execute_result",
          "data": {
            "text/plain": [
              "tensor([[[[1, 2],\n",
              "          [3, 4],\n",
              "          [5, 6],\n",
              "          [7, 8]]]])"
            ]
          },
          "metadata": {},
          "execution_count": 20
        }
      ]
    },
    {
      "cell_type": "code",
      "source": [
        "TENSOR1.ndim"
      ],
      "metadata": {
        "colab": {
          "base_uri": "https://localhost:8080/"
        },
        "id": "9lYX_85yP-Te",
        "outputId": "fe3b5515-cd13-40db-ff14-ed142d7e9b1b"
      },
      "execution_count": 21,
      "outputs": [
        {
          "output_type": "execute_result",
          "data": {
            "text/plain": [
              "4"
            ]
          },
          "metadata": {},
          "execution_count": 21
        }
      ]
    },
    {
      "cell_type": "code",
      "source": [
        "TENSOR1.shape"
      ],
      "metadata": {
        "colab": {
          "base_uri": "https://localhost:8080/"
        },
        "id": "Etv8RLH8RVNh",
        "outputId": "1097fe15-d9d9-4e25-e966-84a2eaf3cbfd"
      },
      "execution_count": 22,
      "outputs": [
        {
          "output_type": "execute_result",
          "data": {
            "text/plain": [
              "torch.Size([1, 1, 4, 2])"
            ]
          },
          "metadata": {},
          "execution_count": 22
        }
      ]
    },
    {
      "cell_type": "code",
      "source": [
        "TENSOR2 = torch.tensor([[[[[1, 2],\n",
        "          [3, 4],\n",
        "          [5, 6],\n",
        "          [7, 8]],[[1, 2],\n",
        "          [3, 4],\n",
        "          [5, 6],\n",
        "          [7, 8]]]]])\n",
        "TENSOR2.ndim"
      ],
      "metadata": {
        "colab": {
          "base_uri": "https://localhost:8080/"
        },
        "id": "8RgRZCwERYuh",
        "outputId": "156633a3-ef42-42b4-de79-dc364adba4c9"
      },
      "execution_count": 23,
      "outputs": [
        {
          "output_type": "execute_result",
          "data": {
            "text/plain": [
              "5"
            ]
          },
          "metadata": {},
          "execution_count": 23
        }
      ]
    },
    {
      "cell_type": "code",
      "source": [
        "TENSOR2.shape\n",
        "#you can move along each bracket and count # of instances in each bracket"
      ],
      "metadata": {
        "colab": {
          "base_uri": "https://localhost:8080/"
        },
        "id": "pRAy9LyJUQaL",
        "outputId": "da37b066-eb4d-4dba-e56a-6c2227ed3d0e"
      },
      "execution_count": 24,
      "outputs": [
        {
          "output_type": "execute_result",
          "data": {
            "text/plain": [
              "torch.Size([1, 1, 2, 4, 2])"
            ]
          },
          "metadata": {},
          "execution_count": 24
        }
      ]
    },
    {
      "cell_type": "code",
      "source": [
        "#note scalars and vectors by convention use lowercase, while matix/tensor use upper"
      ],
      "metadata": {
        "id": "lyV6xBscUSSJ"
      },
      "execution_count": 25,
      "outputs": []
    },
    {
      "cell_type": "markdown",
      "source": [
        "### Random Tensors\n",
        "\n",
        "Why random tensors?\n",
        "\n",
        "Important because the way many neural networks learn is they start with tensors full of random numbers, and then adjust those random numbers to better represent the data\n",
        "\n",
        "So...start random numbers, check with data, update random numbers, repeat\n",
        "\n",
        "Documentation: https://pytorch.org/docs/stable/generated/torch.rand.html"
      ],
      "metadata": {
        "id": "Bo16eKsJXj6z"
      }
    },
    {
      "cell_type": "code",
      "source": [
        "#Create a random tensor of size (3,4)\n",
        "random_tensor = torch.rand(3,4)\n",
        "random_tensor\n"
      ],
      "metadata": {
        "colab": {
          "base_uri": "https://localhost:8080/"
        },
        "id": "cjZgfvGgX_nc",
        "outputId": "f5eeb754-4622-4c1e-9fc7-ffb20f74b6c3"
      },
      "execution_count": 26,
      "outputs": [
        {
          "output_type": "execute_result",
          "data": {
            "text/plain": [
              "tensor([[0.2365, 0.8419, 0.8273, 0.0970],\n",
              "        [0.9150, 0.6489, 0.6520, 0.9124],\n",
              "        [0.8278, 0.1297, 0.5965, 0.8723]])"
            ]
          },
          "metadata": {},
          "execution_count": 26
        }
      ]
    },
    {
      "cell_type": "code",
      "source": [
        "random_tensor.ndim"
      ],
      "metadata": {
        "colab": {
          "base_uri": "https://localhost:8080/"
        },
        "id": "myNZzD1w-ZaE",
        "outputId": "c952f9fb-a6fc-4ad4-c636-7c5a91e40f3c"
      },
      "execution_count": 27,
      "outputs": [
        {
          "output_type": "execute_result",
          "data": {
            "text/plain": [
              "2"
            ]
          },
          "metadata": {},
          "execution_count": 27
        }
      ]
    },
    {
      "cell_type": "code",
      "source": [
        "random_tensor.shape"
      ],
      "metadata": {
        "colab": {
          "base_uri": "https://localhost:8080/"
        },
        "id": "blzJBQap-dRZ",
        "outputId": "9a3701db-fcc1-4df2-e204-2780c4df31f2"
      },
      "execution_count": 28,
      "outputs": [
        {
          "output_type": "execute_result",
          "data": {
            "text/plain": [
              "torch.Size([3, 4])"
            ]
          },
          "metadata": {},
          "execution_count": 28
        }
      ]
    },
    {
      "cell_type": "code",
      "source": [
        "random_tensor = torch.rand(1,3,4)\n",
        "random_tensor"
      ],
      "metadata": {
        "colab": {
          "base_uri": "https://localhost:8080/"
        },
        "id": "u0zx2MgB-fH_",
        "outputId": "22b25a1f-2b93-4aa5-cb3f-e7b71c711780"
      },
      "execution_count": 29,
      "outputs": [
        {
          "output_type": "execute_result",
          "data": {
            "text/plain": [
              "tensor([[[0.1427, 0.0349, 0.2988, 0.7142],\n",
              "         [0.4466, 0.1461, 0.2105, 0.5480],\n",
              "         [0.2815, 0.0564, 0.4408, 0.4891]]])"
            ]
          },
          "metadata": {},
          "execution_count": 29
        }
      ]
    },
    {
      "cell_type": "code",
      "source": [
        "#create random tensor with similar shape to an image tensor\n",
        "#as seen here, almost anything can be represented as data\n",
        "random_image_size_tensor = torch.rand(size=(224, 224, 3)) #height, width, color channels (R, G, B)\n",
        "random_image_size_tensor.shape, random_image_size_tensor.ndim"
      ],
      "metadata": {
        "colab": {
          "base_uri": "https://localhost:8080/"
        },
        "id": "TO6_5oYX-lZU",
        "outputId": "186be1bd-fae1-4916-f4a2-98c328f6d5c9"
      },
      "execution_count": 30,
      "outputs": [
        {
          "output_type": "execute_result",
          "data": {
            "text/plain": [
              "(torch.Size([224, 224, 3]), 3)"
            ]
          },
          "metadata": {},
          "execution_count": 30
        }
      ]
    },
    {
      "cell_type": "code",
      "source": [
        "another_rand_tensor = torch.rand(3, 5, 5)\n",
        "another_rand_tensor"
      ],
      "metadata": {
        "colab": {
          "base_uri": "https://localhost:8080/"
        },
        "id": "jCv1hR6e_EZM",
        "outputId": "cd7fad22-e3ff-4ea5-bad7-f7d2cd00b4d2"
      },
      "execution_count": 31,
      "outputs": [
        {
          "output_type": "execute_result",
          "data": {
            "text/plain": [
              "tensor([[[7.8218e-01, 7.8953e-01, 4.6743e-01, 6.8300e-01, 1.7269e-01],\n",
              "         [6.3917e-01, 3.1790e-01, 1.2245e-01, 3.8309e-01, 8.3428e-01],\n",
              "         [1.1939e-01, 2.4469e-01, 5.1553e-01, 1.3368e-02, 2.8702e-01],\n",
              "         [5.3263e-01, 7.0597e-01, 3.8443e-01, 6.3520e-01, 7.5750e-01],\n",
              "         [9.7760e-01, 5.1734e-01, 4.6373e-01, 1.5357e-01, 8.7274e-01]],\n",
              "\n",
              "        [[1.7995e-01, 3.4658e-01, 9.4266e-01, 2.6873e-01, 5.1817e-01],\n",
              "         [8.8233e-01, 5.4159e-02, 6.5779e-01, 2.1640e-01, 1.7709e-01],\n",
              "         [5.6948e-01, 5.6767e-01, 6.4765e-01, 3.4360e-01, 2.4588e-02],\n",
              "         [7.2737e-02, 3.6985e-01, 8.9335e-01, 6.7664e-01, 7.2171e-01],\n",
              "         [6.6032e-01, 5.2992e-01, 2.6655e-01, 3.7304e-01, 6.8704e-01]],\n",
              "\n",
              "        [[2.5748e-01, 1.0543e-01, 7.8315e-01, 1.4400e-01, 7.4548e-01],\n",
              "         [2.9376e-01, 7.9057e-01, 1.7829e-01, 2.2693e-01, 6.5873e-01],\n",
              "         [4.6810e-01, 9.4720e-01, 4.2468e-01, 1.6958e-01, 2.3085e-01],\n",
              "         [1.3187e-01, 8.4178e-01, 9.5020e-01, 6.5988e-01, 3.2212e-01],\n",
              "         [9.2846e-01, 3.3300e-02, 3.3281e-01, 3.4738e-04, 7.9431e-01]]])"
            ]
          },
          "metadata": {},
          "execution_count": 31
        }
      ]
    },
    {
      "cell_type": "code",
      "source": [
        "#can also explicitely use the 'size' parameter\n",
        "# ex = torch.rand(size =(3, 3))\n",
        "# ex"
      ],
      "metadata": {
        "id": "CTmg6uUN_nwa"
      },
      "execution_count": 32,
      "outputs": []
    },
    {
      "cell_type": "markdown",
      "source": [
        "###Zeroes and ones"
      ],
      "metadata": {
        "id": "VNO2bj09BOhr"
      }
    },
    {
      "cell_type": "code",
      "source": [
        "#Create tensor of all zeros\n",
        "zeros = torch.zeros(size=(3,4))\n",
        "zeros"
      ],
      "metadata": {
        "colab": {
          "base_uri": "https://localhost:8080/"
        },
        "id": "agq9egWSBTW0",
        "outputId": "6bfd5fc9-1999-4600-cdd6-4b438be54169"
      },
      "execution_count": 33,
      "outputs": [
        {
          "output_type": "execute_result",
          "data": {
            "text/plain": [
              "tensor([[0., 0., 0., 0.],\n",
              "        [0., 0., 0., 0.],\n",
              "        [0., 0., 0., 0.]])"
            ]
          },
          "metadata": {},
          "execution_count": 33
        }
      ]
    },
    {
      "cell_type": "code",
      "source": [
        "#If want to zero all numbers out in a tensor\n",
        "zeros*random_tensor"
      ],
      "metadata": {
        "colab": {
          "base_uri": "https://localhost:8080/"
        },
        "id": "A6PDktunBbYv",
        "outputId": "8f69788e-9e5c-4ec9-84a6-9e11ab86df8e"
      },
      "execution_count": 34,
      "outputs": [
        {
          "output_type": "execute_result",
          "data": {
            "text/plain": [
              "tensor([[[0., 0., 0., 0.],\n",
              "         [0., 0., 0., 0.],\n",
              "         [0., 0., 0., 0.]]])"
            ]
          },
          "metadata": {},
          "execution_count": 34
        }
      ]
    },
    {
      "cell_type": "code",
      "source": [
        "#Create a tensor of all ones\n",
        "ones = torch.ones(size=(3,4))\n",
        "ones"
      ],
      "metadata": {
        "colab": {
          "base_uri": "https://localhost:8080/"
        },
        "id": "iaPMxlDVBjYp",
        "outputId": "28165f92-ade0-46a4-ff54-fcba923144f9"
      },
      "execution_count": 35,
      "outputs": [
        {
          "output_type": "execute_result",
          "data": {
            "text/plain": [
              "tensor([[1., 1., 1., 1.],\n",
              "        [1., 1., 1., 1.],\n",
              "        [1., 1., 1., 1.]])"
            ]
          },
          "metadata": {},
          "execution_count": 35
        }
      ]
    },
    {
      "cell_type": "code",
      "source": [
        "#Default data type of tensor\n",
        "ones.dtype"
      ],
      "metadata": {
        "colab": {
          "base_uri": "https://localhost:8080/"
        },
        "id": "kBO2nICuCHDz",
        "outputId": "e3b04171-f82c-4a80-edc2-f02f8ad2ee57"
      },
      "execution_count": 36,
      "outputs": [
        {
          "output_type": "execute_result",
          "data": {
            "text/plain": [
              "torch.float32"
            ]
          },
          "metadata": {},
          "execution_count": 36
        }
      ]
    },
    {
      "cell_type": "markdown",
      "source": [
        "###Creating a range of tensors and tensors-like"
      ],
      "metadata": {
        "id": "rNSjqt46CJML"
      }
    },
    {
      "cell_type": "code",
      "source": [
        "#Torch.range() is not recommended due to inconsistent behavior,\n",
        "#torch.range(0, 10)"
      ],
      "metadata": {
        "id": "qEtO0nQVCfDA"
      },
      "execution_count": 37,
      "outputs": []
    },
    {
      "cell_type": "code",
      "source": [
        "#torch.arrange() is preferred\n",
        "one_to_ten = torch.arange(0, 10)\n",
        "one_to_ten"
      ],
      "metadata": {
        "colab": {
          "base_uri": "https://localhost:8080/"
        },
        "id": "N3hJDgCZCrFw",
        "outputId": "01b9099b-31ed-435d-a713-9b1bcb1657cf"
      },
      "execution_count": 38,
      "outputs": [
        {
          "output_type": "execute_result",
          "data": {
            "text/plain": [
              "tensor([0, 1, 2, 3, 4, 5, 6, 7, 8, 9])"
            ]
          },
          "metadata": {},
          "execution_count": 38
        }
      ]
    },
    {
      "cell_type": "code",
      "source": [
        "#note the ending number is not inclusive\n",
        "arange_ex = torch.arange(start=0, end=1000, step=77)\n",
        "arange_ex"
      ],
      "metadata": {
        "colab": {
          "base_uri": "https://localhost:8080/"
        },
        "id": "CJogvs3MDAim",
        "outputId": "976d9e91-3fd2-43b3-dfcb-b9ef7867591c"
      },
      "execution_count": 39,
      "outputs": [
        {
          "output_type": "execute_result",
          "data": {
            "text/plain": [
              "tensor([  0,  77, 154, 231, 308, 385, 462, 539, 616, 693, 770, 847, 924])"
            ]
          },
          "metadata": {},
          "execution_count": 39
        }
      ]
    },
    {
      "cell_type": "code",
      "source": [
        "#Creating tensors like (in the same shape as)\n",
        "one_to_ten = torch.arange(0, 10)\n",
        "ten_zeros = torch.zeros_like(input=one_to_ten)\n",
        "ten_zeros"
      ],
      "metadata": {
        "colab": {
          "base_uri": "https://localhost:8080/"
        },
        "id": "J_tGo0TPDgN6",
        "outputId": "7e75ad47-2109-4818-fb83-3af1a153de36"
      },
      "execution_count": 40,
      "outputs": [
        {
          "output_type": "execute_result",
          "data": {
            "text/plain": [
              "tensor([0, 0, 0, 0, 0, 0, 0, 0, 0, 0])"
            ]
          },
          "metadata": {},
          "execution_count": 40
        }
      ]
    },
    {
      "cell_type": "code",
      "source": [
        "X = torch.arange(3, 42, 7)\n",
        "Y = torch.zeros_like(X)\n",
        "Y"
      ],
      "metadata": {
        "colab": {
          "base_uri": "https://localhost:8080/"
        },
        "id": "DMNeLboFEDRP",
        "outputId": "afcec641-2340-41e0-c64b-5468303ad73a"
      },
      "execution_count": 41,
      "outputs": [
        {
          "output_type": "execute_result",
          "data": {
            "text/plain": [
              "tensor([0, 0, 0, 0, 0, 0])"
            ]
          },
          "metadata": {},
          "execution_count": 41
        }
      ]
    },
    {
      "cell_type": "markdown",
      "source": [
        "\n",
        "\n",
        "```\n",
        "# This is formatted as code\n",
        "```\n",
        "\n",
        "###Tensor datatypes\n",
        "\n",
        "**Note:** Tensor datatypes is one fo the 3 big errors with PyTorch and deep learning\n",
        "1. Tensors not right datatype\n",
        "2. Tensors not right shape\n",
        "3. Tensors not on the right device"
      ],
      "metadata": {
        "id": "-tWh1yBSE2k1"
      }
    },
    {
      "cell_type": "code",
      "source": [
        "#Float 32 tensor\n",
        "#If trying to set default type as None, still set as torch.float32\n",
        "float_32_tensor = torch.tensor([3.0, 6.0, 9.0],\n",
        "                               dtype=torch.float32, #what datatype is the tensor\n",
        "                               device=None, # What device is your tensor on -'cuda' or 'cpu'-if try to do something with tensors on different devices, will produce error\n",
        "                               requires_grad=False) # If want PyTorch to track gradients when tensors go through certain calculations\n",
        "float_32_tensor\n"
      ],
      "metadata": {
        "colab": {
          "base_uri": "https://localhost:8080/"
        },
        "id": "g1dzbrDdFLlP",
        "outputId": "9b952800-e9a2-4ab2-abcd-2b6d6e325e88"
      },
      "execution_count": 42,
      "outputs": [
        {
          "output_type": "execute_result",
          "data": {
            "text/plain": [
              "tensor([3., 6., 9.])"
            ]
          },
          "metadata": {},
          "execution_count": 42
        }
      ]
    },
    {
      "cell_type": "code",
      "source": [
        "float_32_tensor.dtype"
      ],
      "metadata": {
        "colab": {
          "base_uri": "https://localhost:8080/"
        },
        "id": "UiSfc-ApLAxh",
        "outputId": "ea99443e-76fa-4317-fde3-b081cf59c7fd"
      },
      "execution_count": 43,
      "outputs": [
        {
          "output_type": "execute_result",
          "data": {
            "text/plain": [
              "torch.float32"
            ]
          },
          "metadata": {},
          "execution_count": 43
        }
      ]
    },
    {
      "cell_type": "code",
      "source": [
        "float_16_tensor = float_32_tensor.type(torch.float16)\n",
        "float_16_tensor"
      ],
      "metadata": {
        "colab": {
          "base_uri": "https://localhost:8080/"
        },
        "id": "BJa3dLvuKr_U",
        "outputId": "cca44617-8409-4003-a3fe-8c2e3cfe0aab"
      },
      "execution_count": 44,
      "outputs": [
        {
          "output_type": "execute_result",
          "data": {
            "text/plain": [
              "tensor([3., 6., 9.], dtype=torch.float16)"
            ]
          },
          "metadata": {},
          "execution_count": 44
        }
      ]
    },
    {
      "cell_type": "code",
      "source": [
        "#Runs fine, be aware of unexpected behavior though with different dtypes\n",
        "float_32_tensor * float_16_tensor"
      ],
      "metadata": {
        "colab": {
          "base_uri": "https://localhost:8080/"
        },
        "id": "PGfoYfEXK66q",
        "outputId": "6bb511c7-3e50-45e2-c00e-d1b39bb47aef"
      },
      "execution_count": 45,
      "outputs": [
        {
          "output_type": "execute_result",
          "data": {
            "text/plain": [
              "tensor([ 9., 36., 81.])"
            ]
          },
          "metadata": {},
          "execution_count": 45
        }
      ]
    },
    {
      "cell_type": "code",
      "source": [
        "int_32_tensor = torch.tensor([3,6,9], dtype=torch.int32)\n",
        "int_32_tensor"
      ],
      "metadata": {
        "colab": {
          "base_uri": "https://localhost:8080/"
        },
        "id": "3ELp_xsaLPAN",
        "outputId": "a3d54860-3a55-4738-c0d1-609f7220e394"
      },
      "execution_count": 46,
      "outputs": [
        {
          "output_type": "execute_result",
          "data": {
            "text/plain": [
              "tensor([3, 6, 9], dtype=torch.int32)"
            ]
          },
          "metadata": {},
          "execution_count": 46
        }
      ]
    },
    {
      "cell_type": "code",
      "source": [
        "float_32_tensor * int_32_tensor"
      ],
      "metadata": {
        "colab": {
          "base_uri": "https://localhost:8080/"
        },
        "id": "zvmoZ3ttXlw-",
        "outputId": "e58cb448-562b-4af6-a123-d5572196e58a"
      },
      "execution_count": 47,
      "outputs": [
        {
          "output_type": "execute_result",
          "data": {
            "text/plain": [
              "tensor([ 9., 36., 81.])"
            ]
          },
          "metadata": {},
          "execution_count": 47
        }
      ]
    },
    {
      "cell_type": "markdown",
      "source": [
        "###Getting information from tensors\n",
        "\n",
        "\n",
        "1. Tensors not right datatype- get datatype from a tensor, use `tensor.dtype`\n",
        "2. Tensors not right shape-to get shape use `tensor.shape`\n",
        "3. Tensors not on the right device- to get device, use `tensor.device`\n",
        "\n",
        "NOTE: tensor.shape and tensor.size() can be used interchangably"
      ],
      "metadata": {
        "id": "0g_ku-VjXqQV"
      }
    },
    {
      "cell_type": "code",
      "source": [
        "#create a tensor\n",
        "some_tensor = torch.rand(3,4)\n",
        "some_tensor"
      ],
      "metadata": {
        "colab": {
          "base_uri": "https://localhost:8080/"
        },
        "id": "B1295tubYWqX",
        "outputId": "c8d00e5d-c43f-44b4-f2a9-b50f638c3b8a"
      },
      "execution_count": 48,
      "outputs": [
        {
          "output_type": "execute_result",
          "data": {
            "text/plain": [
              "tensor([[0.2057, 0.1400, 0.0190, 0.5767],\n",
              "        [0.5179, 0.7654, 0.0031, 0.1333],\n",
              "        [0.2830, 0.3205, 0.3822, 0.1178]])"
            ]
          },
          "metadata": {},
          "execution_count": 48
        }
      ]
    },
    {
      "cell_type": "code",
      "source": [
        "#Find out details about some tensor\n",
        "print(some_tensor)\n",
        "print(f\"Datatype of tensor: {some_tensor.dtype}\")\n",
        "print(f\"Shape of tensor: {some_tensor.shape}\")\n",
        "print(f\"Device tensor is on: {some_tensor.device}\")\n"
      ],
      "metadata": {
        "colab": {
          "base_uri": "https://localhost:8080/"
        },
        "id": "OihWprW3Yfjw",
        "outputId": "b5f360b6-7a1e-4432-ee6d-afaf412dd38c"
      },
      "execution_count": 49,
      "outputs": [
        {
          "output_type": "stream",
          "name": "stdout",
          "text": [
            "tensor([[0.2057, 0.1400, 0.0190, 0.5767],\n",
            "        [0.5179, 0.7654, 0.0031, 0.1333],\n",
            "        [0.2830, 0.3205, 0.3822, 0.1178]])\n",
            "Datatype of tensor: torch.float32\n",
            "Shape of tensor: torch.Size([3, 4])\n",
            "Device tensor is on: cpu\n"
          ]
        }
      ]
    },
    {
      "cell_type": "code",
      "source": [],
      "metadata": {
        "id": "wpcLacdNZKtl"
      },
      "execution_count": null,
      "outputs": []
    }
  ]
}