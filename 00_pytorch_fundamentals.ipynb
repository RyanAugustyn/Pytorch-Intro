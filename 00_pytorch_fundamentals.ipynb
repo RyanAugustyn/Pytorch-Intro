{
  "nbformat": 4,
  "nbformat_minor": 0,
  "metadata": {
    "colab": {
      "provenance": [],
      "gpuType": "T4",
      "authorship_tag": "ABX9TyORdtcnzs7TcnkcaDJ6KiZl",
      "include_colab_link": true
    },
    "kernelspec": {
      "name": "python3",
      "display_name": "Python 3"
    },
    "language_info": {
      "name": "python"
    }
  },
  "cells": [
    {
      "cell_type": "markdown",
      "metadata": {
        "id": "view-in-github",
        "colab_type": "text"
      },
      "source": [
        "<a href=\"https://colab.research.google.com/github/RyanAugustyn/Pytorch-Intro/blob/main/00_pytorch_fundamentals.ipynb\" target=\"_parent\"><img src=\"https://colab.research.google.com/assets/colab-badge.svg\" alt=\"Open In Colab\"/></a>"
      ]
    },
    {
      "cell_type": "markdown",
      "source": [
        "# 00. PyTorch Fundamentals\n",
        "\n",
        "Resource notebook: https://www.learnpytorch.io/00_pytorch_fundamentals/\n",
        "\n",
        "Course github discussion: https://github.com/mrdbourke/pytorch-deep-learning/discussions\n",
        "\n"
      ],
      "metadata": {
        "id": "ni6MfR7gvell"
      }
    },
    {
      "cell_type": "markdown",
      "source": [
        "Changed the above to text cell by highlighting and hitting ctrl + mm\n",
        "\n"
      ],
      "metadata": {
        "id": "Ku5siWeQwkMJ"
      }
    },
    {
      "cell_type": "markdown",
      "source": [
        "Hit shift + enter to start a new code cell while typing, or if not in a cell hit ctrl + mb"
      ],
      "metadata": {
        "id": "pUnhS3O5w0JN"
      }
    },
    {
      "cell_type": "code",
      "source": [
        "import torch\n",
        "import pandas as pd\n",
        "import numpy as np\n",
        "import matplotlib.pyplot as plt\n",
        "print(torch.__version__)"
      ],
      "metadata": {
        "colab": {
          "base_uri": "https://localhost:8080/"
        },
        "id": "SwxBkkVqxCt5",
        "outputId": "c14f3c74-5138-4136-f32e-622e6ba5f4bc"
      },
      "execution_count": 1,
      "outputs": [
        {
          "output_type": "stream",
          "name": "stdout",
          "text": [
            "2.0.1+cu118\n"
          ]
        }
      ]
    },
    {
      "cell_type": "code",
      "source": [
        "# Introduction to Tensors-Creating tensors\n",
        "\n",
        "#torch.tensor documentation at https://pytorch.org/docs/stable/tensors.html\n",
        "\n",
        "#scalar\n",
        "scalar = torch.tensor(7)\n",
        "scalar\n"
      ],
      "metadata": {
        "colab": {
          "base_uri": "https://localhost:8080/"
        },
        "id": "fzhjGRJRyiLU",
        "outputId": "72fa82cc-cbb8-4f93-8a5d-fc0658692b77"
      },
      "execution_count": 2,
      "outputs": [
        {
          "output_type": "execute_result",
          "data": {
            "text/plain": [
              "tensor(7)"
            ]
          },
          "metadata": {},
          "execution_count": 2
        }
      ]
    },
    {
      "cell_type": "code",
      "source": [
        "#has no dimensions\n",
        "scalar.ndim\n",
        "\n",
        "scalar2 = torch.tensor([[1,2], [3,4]])\n",
        "scalar2\n",
        "\n",
        "#tried running with different lengths, produced error when scalars not equal size\n",
        "scalar3 = torch.tensor([[1,2,2,2], [3,4,5,5], [6,7,8,9]])\n",
        "scalar3\n"
      ],
      "metadata": {
        "colab": {
          "base_uri": "https://localhost:8080/"
        },
        "id": "j-C8ED6M1-kS",
        "outputId": "8f8a3315-3448-4e67-e141-db44b4f9e0a7"
      },
      "execution_count": 10,
      "outputs": [
        {
          "output_type": "execute_result",
          "data": {
            "text/plain": [
              "tensor([[1, 2, 2, 2],\n",
              "        [3, 4, 5, 5],\n",
              "        [6, 7, 8, 9]])"
            ]
          },
          "metadata": {},
          "execution_count": 10
        }
      ]
    },
    {
      "cell_type": "code",
      "source": [
        "scalar2.ndim"
      ],
      "metadata": {
        "colab": {
          "base_uri": "https://localhost:8080/"
        },
        "id": "v6E-T3c527Ei",
        "outputId": "3bfc3433-be31-48af-b4db-d0b47226dd90"
      },
      "execution_count": 8,
      "outputs": [
        {
          "output_type": "execute_result",
          "data": {
            "text/plain": [
              "2"
            ]
          },
          "metadata": {},
          "execution_count": 8
        }
      ]
    },
    {
      "cell_type": "code",
      "source": [
        "scalar3.ndim"
      ],
      "metadata": {
        "colab": {
          "base_uri": "https://localhost:8080/"
        },
        "id": "1d6haf_G3gNA",
        "outputId": "e620f2bc-b226-477d-d61e-7b340d525ee1"
      },
      "execution_count": 11,
      "outputs": [
        {
          "output_type": "execute_result",
          "data": {
            "text/plain": [
              "2"
            ]
          },
          "metadata": {},
          "execution_count": 11
        }
      ]
    },
    {
      "cell_type": "code",
      "source": [
        "#get tensor back as Python int\n",
        "scalar.item()"
      ],
      "metadata": {
        "colab": {
          "base_uri": "https://localhost:8080/"
        },
        "id": "nfmvA9X_2TZp",
        "outputId": "b76e099c-fc9c-4d8a-c82e-1520be3afdf4"
      },
      "execution_count": 4,
      "outputs": [
        {
          "output_type": "execute_result",
          "data": {
            "text/plain": [
              "7"
            ]
          },
          "metadata": {},
          "execution_count": 4
        }
      ]
    },
    {
      "cell_type": "code",
      "source": [
        "#Vector\n",
        "vector = torch.tensor([7, 7])\n",
        "vector"
      ],
      "metadata": {
        "colab": {
          "base_uri": "https://localhost:8080/"
        },
        "id": "7TSde_o82bT1",
        "outputId": "6345dab8-50f6-4285-ce41-007dbf10af63"
      },
      "execution_count": 12,
      "outputs": [
        {
          "output_type": "execute_result",
          "data": {
            "text/plain": [
              "tensor([7, 7])"
            ]
          },
          "metadata": {},
          "execution_count": 12
        }
      ]
    },
    {
      "cell_type": "code",
      "source": [],
      "metadata": {
        "id": "wEUKWBWE3sV7"
      },
      "execution_count": null,
      "outputs": []
    }
  ]
}